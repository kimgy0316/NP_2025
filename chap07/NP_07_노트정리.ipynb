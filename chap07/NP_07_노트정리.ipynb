{
 "cells": [
  {
   "cell_type": "markdown",
   "id": "d0088a0f",
   "metadata": {},
   "source": [
    "## 7장 노트정리\n",
    "\n",
    "이 파일은 7장을 학습하면서 실행한 내용을 정리한 것이다.\n",
    "\n",
    "날짜 : 2025.9.30\n",
    "\n",
    "작성자 : 김경연 (202311383)"
   ]
  },
  {
   "cell_type": "markdown",
   "id": "82a454f5",
   "metadata": {},
   "source": [
    "### 모듈이란?\n",
    "\n",
    "함수, 변수, 클래스들을 모아놓은 파일 묶음(라이브러리)"
   ]
  },
  {
   "cell_type": "markdown",
   "id": "f9e65cc8",
   "metadata": {},
   "source": [
    "## 모듈 불러오기 1)\n",
    "\n",
    ">>> import socket\n",
    ">>> socket.gethostname()\n",
    "'DESKTOP-GOTA7P9'\n",
    ">>> dir(socket)\n",
    "['AF_APPLETALK', 'AF_BLUETOOTH', 'AF_DECnet', 'AF_HYPERV', 'AF_INET', 'AF_INET6', 'AF_IPX', 'AF_IRDA', 'AF_LINK', 'AF_SNA', 'AF_UNSPEC', 'AI_ADDRCONFIG', 'AI_ALL', 'AI_CANONNAME', 'AI_NUMERICHOST', 'AI_NUMERICSERV', 'AI_PASSIVE', 'AI_V4MAPPED', 'AddressFamily', 'AddressInfo', 'BDADDR_ANY', 'BDADDR_LOCAL', 'BTPROTO_RFCOMM', 'CAPI', 'EAGAIN', 'EAI_AGAIN', 'EAI_BADFLAGS', 'EAI_FAIL', 'EAI_FAMILY', 'EAI_MEMORY', 'EAI_NODATA', 'EAI_NONAME', 'EAI_SERVICE', 'EAI_SOCKTYPE', 'EBADF', 'EWOULDBLOCK', 'HVSOCKET_ADDRESS_FLAG_PASSTHRU', 'HVSOCKET_CONNECTED_SUSPEND', 'HVSOCKET_CONNECT_TIMEOUT', 'HVSOCKET_CONNECT_TIMEOUT_MAX', 'HV_GUID_BROADCAST', 'HV_GUID_CHILDREN', 'HV_GUID_LOOPBACK', 'HV_GUID_PARENT', 'HV_GUID_WILDCARD', 'HV_GUID_ZERO', 'HV_PROTOCOL_RAW', 'INADDR_ALLHOSTS_GROUP', 'INADDR_ANY', 'INADDR_BROADCAST', 'INADDR_LOOPBACK', 'INADDR_MAX_LOCAL_GROUP', 'INADDR_NONE', 'INADDR_UNSPEC_GROUP', 'IPPORT_RESERVED', 'IPPORT_USERRESERVED', 'IPPROTO_AH', 'IPPROTO_CBT', 'IPPROTO_DSTOPTS', 'IPPROTO_EGP', 'IPPROTO_ESP', 'IPPROTO_FRAGMENT', 'IPPROTO_GGP', 'IPPROTO_HOPOPTS', 'IPPROTO_ICLFXBM', 'IPPROTO_ICMP', 'IPPROTO_ICMPV6', 'IPPROTO_IDP', 'IPPROTO_IGMP', 'IPPROTO_IGP', 'IPPROTO_IP', 'IPPROTO_IPV4', 'IPPROTO_IPV6', 'IPPROTO_L2TP', 'IPPROTO_MAX', 'IPPROTO_ND', 'IPPROTO_NONE', 'IPPROTO_PGM', 'IPPROTO_PIM', 'IPPROTO_PUP', 'IPPROTO_RAW', 'IPPROTO_RDP', 'IPPROTO_ROUTING', 'IPPROTO_SCTP', 'IPPROTO_ST', 'IPPROTO_TCP', 'IPPROTO_UDP', 'IPV6_CHECKSUM', 'IPV6_DONTFRAG', 'IPV6_HOPLIMIT', 'IPV6_HOPOPTS', 'IPV6_JOIN_GROUP', 'IPV6_LEAVE_GROUP', 'IPV6_MULTICAST_HOPS', 'IPV6_MULTICAST_IF', 'IPV6_MULTICAST_LOOP', 'IPV6_PKTINFO', 'IPV6_RECVRTHDR', 'IPV6_RECVTCLASS', 'IPV6_RTHDR', 'IPV6_TCLASS', 'IPV6_UNICAST_HOPS', 'IPV6_V6ONLY', 'IP_ADD_MEMBERSHIP', 'IP_ADD_SOURCE_MEMBERSHIP', 'IP_BLOCK_SOURCE', 'IP_DROP_MEMBERSHIP', 'IP_DROP_SOURCE_MEMBERSHIP', 'IP_HDRINCL', 'IP_MULTICAST_IF', 'IP_MULTICAST_LOOP', 'IP_MULTICAST_TTL', 'IP_OPTIONS', 'IP_PKTINFO', 'IP_RECVDSTADDR', 'IP_RECVTOS', 'IP_TOS', 'IP_TTL', 'IP_UNBLOCK_SOURCE', 'IntEnum', 'IntFlag', 'MSG_BCAST', 'MSG_CTRUNC', 'MSG_DONTROUTE', 'MSG_ERRQUEUE', 'MSG_MCAST', 'MSG_OOB', 'MSG_PEEK', 'MSG_TRUNC', 'MSG_WAITALL', 'MsgFlag', 'NI_DGRAM', 'NI_MAXHOST', 'NI_MAXSERV', 'NI_NAMEREQD', 'NI_NOFQDN', 'NI_NUMERICHOST', 'NI_NUMERICSERV', 'RCVALL_MAX', 'RCVALL_OFF', 'RCVALL_ON', 'RCVALL_SOCKETLEVELONLY', 'SHUT_RD', 'SHUT_RDWR', 'SHUT_WR', 'SIO_KEEPALIVE_VALS', 'SIO_LOOPBACK_FAST_PATH', 'SIO_RCVALL', 'SOCK_DGRAM', 'SOCK_RAW', 'SOCK_RDM', 'SOCK_SEQPACKET', 'SOCK_STREAM', 'SOL_IP', 'SOL_SOCKET', 'SOL_TCP', 'SOL_UDP', 'SOMAXCONN', 'SO_ACCEPTCONN', 'SO_BROADCAST', 'SO_DEBUG', 'SO_DONTROUTE', 'SO_ERROR', 'SO_EXCLUSIVEADDRUSE', 'SO_KEEPALIVE', 'SO_LINGER', 'SO_OOBINLINE', 'SO_RCVBUF', 'SO_RCVLOWAT', 'SO_RCVTIMEO', 'SO_REUSEADDR', 'SO_SNDBUF', 'SO_SNDLOWAT', 'SO_SNDTIMEO', 'SO_TYPE', 'SO_USELOOPBACK', 'SocketIO', 'SocketKind', 'SocketType', 'TCP_FASTOPEN', 'TCP_KEEPCNT', 'TCP_KEEPIDLE', 'TCP_KEEPINTVL', 'TCP_MAXSEG', 'TCP_NODELAY', '_GLOBAL_DEFAULT_TIMEOUT', '_GiveupOnSendfile', '_LOCALHOST', '_LOCALHOST_V6', '__all__', '__builtins__', '__cached__', '__doc__', '__file__', '__loader__', '__name__', '__package__', '__spec__', '_blocking_errnos', '_fallback_socketpair', '_intenum_converter', '_socket', 'close', 'create_connection', 'create_server', 'dup', 'errno', 'error', 'errorTab', 'fromfd', 'fromshare', 'gaierror', 'getaddrinfo', 'getdefaulttimeout', 'getfqdn', 'gethostbyaddr', 'gethostbyname', 'gethostbyname_ex', 'gethostname', 'getnameinfo', 'getprotobyname', 'getservbyname', 'getservbyport', 'has_dualstack_ipv6', 'has_ipv6', 'herror', 'htonl', 'htons', 'if_indextoname', 'if_nameindex', 'if_nametoindex', 'inet_aton', 'inet_ntoa', 'inet_ntop', 'inet_pton', 'io', 'ntohl', 'ntohs', 'os', 'selectors', 'setdefaulttimeout', 'socket', 'socketpair', 'sys', 'timeout']\n",
    "\n",
    ">>> dir(socket.socket)\n",
    "['__class__', '__del__', '__delattr__', '__dir__', '__doc__', '__enter__', '__eq__', '__exit__', '__firstlineno__', '__format__', '__ge__', '__getattribute__', '__getstate__', '__gt__', '__hash__', '__init__', '__init_subclass__', '__le__', '__lt__', '__module__', '__ne__', '__new__', '__reduce__', '__reduce_ex__', '__repr__', '__setattr__', '__sizeof__', '__slots__', '__static_attributes__', '__str__', '__subclasshook__', '__weakref__', '_accept', '_check_sendfile_params', '_closed', '_decref_socketios', '_io_refs', '_real_close', '_sendfile_use_send', '_sendfile_use_sendfile', 'accept', 'bind', 'close', 'connect', 'connect_ex', 'detach', 'dup', 'family', 'fileno', 'get_inheritable', 'getblocking', 'getpeername', 'getsockname', 'getsockopt', 'gettimeout', 'ioctl', 'listen', 'makefile', 'proto', 'recv', 'recv_into', 'recvfrom', 'recvfrom_into', 'send', 'sendall', 'sendfile', 'sendto', 'set_inheritable', 'setblocking', 'setsockopt', 'settimeout', 'share', 'shutdown', 'timeout', 'type']"
   ]
  },
  {
   "cell_type": "markdown",
   "id": "710f33b7",
   "metadata": {},
   "source": [
    "## 모듈 불러오기 2)\n",
    "\n",
    ">>> from socket import gethostname\n",
    ">>> gethostname()\n",
    "'DESKTOP-GOTA7P9'"
   ]
  },
  {
   "cell_type": "markdown",
   "id": "9a09d08d",
   "metadata": {},
   "source": [
    "## 모듈 불러오기 3)\n",
    "\n",
    ">>> from socket import*\n",
    ">>> gethostname()\n",
    "'DESKTOP-GOTA7P9'"
   ]
  },
  {
   "cell_type": "code",
   "execution_count": 2,
   "id": "d9b1b17d",
   "metadata": {},
   "outputs": [
    {
     "name": "stdout",
     "output_type": "stream",
     "text": [
      "15\n",
      "8\n"
     ]
    }
   ],
   "source": [
    "## 사용자 정의 모듈 만들기\n",
    "\n",
    "def sum(n):\n",
    "    sum = 0\n",
    "    for i in range(1, n+1):\n",
    "       sum = sum + i\n",
    "    return sum\n",
    "    \n",
    "def power(x, n):\n",
    "    prod = 1\n",
    "    for i in range(1, n+1):\n",
    "        prod = prod * x\n",
    "    return prod\n",
    "    \n",
    "if __name__ == '__main__':\n",
    "    print(sum(5))\n",
    "    print(power(2, 3))"
   ]
  },
  {
   "cell_type": "code",
   "execution_count": 3,
   "id": "49397a69",
   "metadata": {},
   "outputs": [
    {
     "ename": "ModuleNotFoundError",
     "evalue": "No module named 'myModule'",
     "output_type": "error",
     "traceback": [
      "\u001b[31m---------------------------------------------------------------------------\u001b[39m",
      "\u001b[31mModuleNotFoundError\u001b[39m                       Traceback (most recent call last)",
      "\u001b[36mCell\u001b[39m\u001b[36m \u001b[39m\u001b[32mIn[3]\u001b[39m\u001b[32m, line 3\u001b[39m\n\u001b[32m      1\u001b[39m \u001b[38;5;66;03m## 사용자 정의 모듈 사용하기\u001b[39;00m\n\u001b[32m----> \u001b[39m\u001b[32m3\u001b[39m \u001b[38;5;28;01mimport\u001b[39;00m\u001b[38;5;250m \u001b[39m\u001b[34;01mmyModule\u001b[39;00m\n\u001b[32m      4\u001b[39m hab = myModule.sum(\u001b[32m10\u001b[39m)\n\u001b[32m      5\u001b[39m pwr = myModule.power(\u001b[32m2\u001b[39m,\u001b[32m3\u001b[39m)\n",
      "\u001b[31mModuleNotFoundError\u001b[39m: No module named 'myModule'"
     ]
    }
   ],
   "source": [
    "## 사용자 정의 모듈 사용하기\n",
    "\n",
    "import myModule\n",
    "hab = myModule.sum(10)\n",
    "pwr = myModule.power(2,3)\n",
    "print(hab, pwr)"
   ]
  },
  {
   "cell_type": "code",
   "execution_count": 4,
   "id": "96482a72",
   "metadata": {},
   "outputs": [],
   "source": [
    "##  if __name__ == '__main__':의 기능\n",
    "\n",
    "if __name__ == '_main__': \n",
    "    print(sum(5))\n",
    "    print(power(2, 3))\n"
   ]
  },
  {
   "cell_type": "markdown",
   "id": "e1abc96d",
   "metadata": {},
   "source": [
    "## sys 모듈\n",
    "\n",
    "## 파이썬 버전 정보\n",
    ">>> import sys\n",
    ">>> sys.version\n",
    "'3.13.7 (tags/v3.13.7:bcee1c3, Aug 14 2025, 14:15:11) [MSC v.1944 64 bit (AMD64)]'\n",
    "\n",
    "## 파이썬 설치 경로\n",
    ">>> sys.prefix\n",
    "'C:\\\\Users\\\\LG\\\\AppData\\\\Local\\\\Programs\\\\Python\\\\Python313'\n",
    "\n",
    "## 표준 입출력 장치\n",
    ">>> sys.stdin.readline()\n",
    "hello\n",
    "'hello\\n'\n",
    ">>> sys.stdout.write('Hello')\n",
    "Hello5"
   ]
  },
  {
   "cell_type": "code",
   "execution_count": 6,
   "id": "312a941d",
   "metadata": {},
   "outputs": [
    {
     "name": "stdout",
     "output_type": "stream",
     "text": [
      "--f=c:\\Users\\LG\\AppData\\Roaming\\jupyter\\runtime\\kernel-v3477fade5cdab89ff5c17b5bcc361bae1684c982e.json\n"
     ]
    }
   ],
   "source": [
    "## sys.argv 속성\n",
    "#echo.py\n",
    "import sys\n",
    "for i in range(1, len(sys.argv)):\n",
    "    print(sys.argv[i])\n"
   ]
  },
  {
   "cell_type": "code",
   "execution_count": null,
   "id": "0970dd8f",
   "metadata": {},
   "outputs": [
    {
     "data": {
      "text/plain": [
       "1"
      ]
     },
     "execution_count": 9,
     "metadata": {},
     "output_type": "execute_result"
    }
   ],
   "source": [
    "## random 모듈\n",
    "\n",
    "# 1~5 사이의임의정수생성\n",
    "\n",
    "import random\n",
    "random.randint(1,5)"
   ]
  },
  {
   "cell_type": "code",
   "execution_count": 11,
   "id": "f40e3383",
   "metadata": {},
   "outputs": [
    {
     "data": {
      "text/plain": [
       "0.05339684089075669"
      ]
     },
     "execution_count": 11,
     "metadata": {},
     "output_type": "execute_result"
    }
   ],
   "source": [
    "# 0~1 사이의실수생성\n",
    "\n",
    "random.random()"
   ]
  },
  {
   "cell_type": "code",
   "execution_count": 12,
   "id": "7b00163b",
   "metadata": {},
   "outputs": [
    {
     "data": {
      "text/plain": [
       "7"
      ]
     },
     "execution_count": 12,
     "metadata": {},
     "output_type": "execute_result"
    }
   ],
   "source": [
    "# (1~10 사이에서step=1로난수발생)\n",
    "\n",
    "random.randrange(1, 10, 1)"
   ]
  },
  {
   "cell_type": "code",
   "execution_count": 13,
   "id": "ec8dde1d",
   "metadata": {},
   "outputs": [
    {
     "data": {
      "text/plain": [
       "'e'"
      ]
     },
     "execution_count": 13,
     "metadata": {},
     "output_type": "execute_result"
    }
   ],
   "source": [
    "# 'hello'에서임의로하나의문자반환\n",
    "\n",
    "random.choice('hello')"
   ]
  },
  {
   "cell_type": "code",
   "execution_count": 14,
   "id": "9a3dd06b",
   "metadata": {},
   "outputs": [
    {
     "data": {
      "text/plain": [
       "['__doc__',\n",
       " '__loader__',\n",
       " '__name__',\n",
       " '__package__',\n",
       " '__spec__',\n",
       " 'acos',\n",
       " 'acosh',\n",
       " 'asin',\n",
       " 'asinh',\n",
       " 'atan',\n",
       " 'atan2',\n",
       " 'atanh',\n",
       " 'cbrt',\n",
       " 'ceil',\n",
       " 'comb',\n",
       " 'copysign',\n",
       " 'cos',\n",
       " 'cosh',\n",
       " 'degrees',\n",
       " 'dist',\n",
       " 'e',\n",
       " 'erf',\n",
       " 'erfc',\n",
       " 'exp',\n",
       " 'exp2',\n",
       " 'expm1',\n",
       " 'fabs',\n",
       " 'factorial',\n",
       " 'floor',\n",
       " 'fma',\n",
       " 'fmod',\n",
       " 'frexp',\n",
       " 'fsum',\n",
       " 'gamma',\n",
       " 'gcd',\n",
       " 'hypot',\n",
       " 'inf',\n",
       " 'isclose',\n",
       " 'isfinite',\n",
       " 'isinf',\n",
       " 'isnan',\n",
       " 'isqrt',\n",
       " 'lcm',\n",
       " 'ldexp',\n",
       " 'lgamma',\n",
       " 'log',\n",
       " 'log10',\n",
       " 'log1p',\n",
       " 'log2',\n",
       " 'modf',\n",
       " 'nan',\n",
       " 'nextafter',\n",
       " 'perm',\n",
       " 'pi',\n",
       " 'pow',\n",
       " 'prod',\n",
       " 'radians',\n",
       " 'remainder',\n",
       " 'sin',\n",
       " 'sinh',\n",
       " 'sqrt',\n",
       " 'sumprod',\n",
       " 'tan',\n",
       " 'tanh',\n",
       " 'tau',\n",
       " 'trunc',\n",
       " 'ulp']"
      ]
     },
     "execution_count": 14,
     "metadata": {},
     "output_type": "execute_result"
    }
   ],
   "source": [
    "## math 모듈\n",
    "\n",
    "import math\n",
    "dir(math) #  math 모듈의 함수와 상수"
   ]
  },
  {
   "cell_type": "code",
   "execution_count": 15,
   "id": "0e915bd5",
   "metadata": {},
   "outputs": [
    {
     "data": {
      "text/plain": [
       "3.141592653589793"
      ]
     },
     "execution_count": 15,
     "metadata": {},
     "output_type": "execute_result"
    }
   ],
   "source": [
    "math.pi # pi(𝜋) 상수값"
   ]
  },
  {
   "cell_type": "code",
   "execution_count": 16,
   "id": "343a86d7",
   "metadata": {},
   "outputs": [
    {
     "data": {
      "text/plain": [
       "0.49999999999999994"
      ]
     },
     "execution_count": 16,
     "metadata": {},
     "output_type": "execute_result"
    }
   ],
   "source": [
    "math.sin(math.pi/6) # sin 함수"
   ]
  },
  {
   "cell_type": "code",
   "execution_count": 17,
   "id": "5f24b181",
   "metadata": {},
   "outputs": [
    {
     "data": {
      "text/plain": [
       "0.3010299956639812"
      ]
     },
     "execution_count": 17,
     "metadata": {},
     "output_type": "execute_result"
    }
   ],
   "source": [
    "math.log10(2) # 로그함수"
   ]
  },
  {
   "cell_type": "code",
   "execution_count": 18,
   "id": "4d61f50b",
   "metadata": {},
   "outputs": [
    {
     "data": {
      "text/plain": [
       "1760332532.2370033"
      ]
     },
     "execution_count": 18,
     "metadata": {},
     "output_type": "execute_result"
    }
   ],
   "source": [
    "## time 모듈\n",
    "\n",
    "import time\n",
    "time.time() # 1970.1.1 0시부터경과한초"
   ]
  },
  {
   "cell_type": "code",
   "execution_count": 19,
   "id": "56561ef7",
   "metadata": {},
   "outputs": [
    {
     "data": {
      "text/plain": [
       "'Mon Oct 13 14:15:49 2025'"
      ]
     },
     "execution_count": 19,
     "metadata": {},
     "output_type": "execute_result"
    }
   ],
   "source": [
    "time.asctime() # 현재 날짜와 시간"
   ]
  },
  {
   "cell_type": "code",
   "execution_count": 20,
   "id": "ee65e88c",
   "metadata": {},
   "outputs": [
    {
     "name": "stdout",
     "output_type": "stream",
     "text": [
      "   February 2019\n",
      "Mo Tu We Th Fr Sa Su\n",
      "             1  2  3\n",
      " 4  5  6  7  8  9 10\n",
      "11 12 13 14 15 16 17\n",
      "18 19 20 21 22 23 24\n",
      "25 26 27 28\n",
      "\n"
     ]
    }
   ],
   "source": [
    "##calendar 모듈\n",
    "import calendar\n",
    "print(calendar.month(2019, 2))"
   ]
  },
  {
   "cell_type": "code",
   "execution_count": 23,
   "id": "87c3cf0c",
   "metadata": {},
   "outputs": [
    {
     "name": "stdout",
     "output_type": "stream",
     "text": [
      "RED 1\n"
     ]
    },
    {
     "ename": "AttributeError",
     "evalue": "cannot reassign member 'RED'",
     "output_type": "error",
     "traceback": [
      "\u001b[31m---------------------------------------------------------------------------\u001b[39m",
      "\u001b[31mAttributeError\u001b[39m                            Traceback (most recent call last)",
      "\u001b[36mCell\u001b[39m\u001b[36m \u001b[39m\u001b[32mIn[23]\u001b[39m\u001b[32m, line 10\u001b[39m\n\u001b[32m      7\u001b[39m     BLUE = \u001b[32m3\u001b[39m\n\u001b[32m      9\u001b[39m \u001b[38;5;28mprint\u001b[39m(Color.RED.name, Color.RED.value)\n\u001b[32m---> \u001b[39m\u001b[32m10\u001b[39m \u001b[43mColor\u001b[49m\u001b[43m.\u001b[49m\u001b[43mRED\u001b[49m = \u001b[32m5\u001b[39m\n\u001b[32m     11\u001b[39m \u001b[38;5;28;01mfor\u001b[39;00m x \u001b[38;5;129;01min\u001b[39;00m Color:\n\u001b[32m     12\u001b[39m     \u001b[38;5;28mprint\u001b[39m(x)\n",
      "\u001b[36mFile \u001b[39m\u001b[32m~\\AppData\\Local\\Programs\\Python\\Python313\\Lib\\enum.py:839\u001b[39m, in \u001b[36mEnumType.__setattr__\u001b[39m\u001b[34m(cls, name, value)\u001b[39m\n\u001b[32m    837\u001b[39m member_map = \u001b[38;5;28mcls\u001b[39m.\u001b[34m__dict__\u001b[39m.get(\u001b[33m'\u001b[39m\u001b[33m_member_map_\u001b[39m\u001b[33m'\u001b[39m, {})\n\u001b[32m    838\u001b[39m \u001b[38;5;28;01mif\u001b[39;00m name \u001b[38;5;129;01min\u001b[39;00m member_map:\n\u001b[32m--> \u001b[39m\u001b[32m839\u001b[39m     \u001b[38;5;28;01mraise\u001b[39;00m \u001b[38;5;167;01mAttributeError\u001b[39;00m(\u001b[33m'\u001b[39m\u001b[33mcannot reassign member \u001b[39m\u001b[38;5;132;01m%r\u001b[39;00m\u001b[33m'\u001b[39m % (name, ))\n\u001b[32m    840\u001b[39m \u001b[38;5;28msuper\u001b[39m().\u001b[34m__setattr__\u001b[39m(name, value)\n",
      "\u001b[31mAttributeError\u001b[39m: cannot reassign member 'RED'"
     ]
    }
   ],
   "source": [
    "## enum 모듈\n",
    "\n",
    "from enum import Enum\n",
    "class Color(Enum):\n",
    "    RED = 1\n",
    "    GREEN = 2\n",
    "    BLUE = 3\n",
    "\n",
    "print(Color.RED.name, Color.RED.value)\n",
    "Color.RED = 5\n",
    "for x in Color:\n",
    "    print(x)\n"
   ]
  },
  {
   "cell_type": "markdown",
   "id": "9efb582b",
   "metadata": {},
   "source": [
    "###__init__.py\n",
    "\n",
    "<__init__.py의 역할>\n",
    "\n",
    "-파이썬패키지로인식\n",
    "\n",
    "-초기화코드실행\n",
    "\n",
    "<__init__.py의 위치>\n",
    "\n",
    "-mypackage/\n",
    "\n",
    "-│-├── __init__.py  # 패키지 초기화 파일\n",
    "\n",
    "-├── module1.py\n",
    "\n",
    "-└── module2.p"
   ]
  },
  {
   "attachments": {
    "image.png": {
     "image/png": "[encoded data removed]"
    }
   },
   "cell_type": "markdown",
   "id": "41358e72",
   "metadata": {},
   "source": [
    "## 모듈과 패키지의 차이\n",
    "\n",
    "모듈\n",
    ": Python에서 하나의 .py 파일이 하나의 모듈-모듈은함수, 클래스, 변수 등을 포함할수있으며, 코드재사용을위해사용\n",
    "\n",
    "패키지\n",
    ": Python에서 디렉토리가 패키지-패키지는여러모듈을포함할수 있음-대규모프로젝트에필요-디렉토리에__init__.py 가 필수적 (비어 있더라도 인식)\n",
    "\n",
    "![image.png](attachment:image.png)"
   ]
  },
  {
   "cell_type": "code",
   "execution_count": 25,
   "id": "06596b94",
   "metadata": {},
   "outputs": [
    {
     "name": "stdout",
     "output_type": "stream",
     "text": [
      "4.0\n"
     ]
    },
    {
     "ename": "ModuleNotFoundError",
     "evalue": "No module named 'mypackage'",
     "output_type": "error",
     "traceback": [
      "\u001b[31m---------------------------------------------------------------------------\u001b[39m",
      "\u001b[31mModuleNotFoundError\u001b[39m                       Traceback (most recent call last)",
      "\u001b[36mCell\u001b[39m\u001b[36m \u001b[39m\u001b[32mIn[25]\u001b[39m\u001b[32m, line 7\u001b[39m\n\u001b[32m      4\u001b[39m \u001b[38;5;28mprint\u001b[39m(math.sqrt(\u001b[32m16\u001b[39m)) \u001b[38;5;66;03m# 4.0\u001b[39;00m\n\u001b[32m      6\u001b[39m  \u001b[38;5;66;03m# 패키지사용\u001b[39;00m\n\u001b[32m----> \u001b[39m\u001b[32m7\u001b[39m \u001b[38;5;28;01mfrom\u001b[39;00m\u001b[38;5;250m \u001b[39m\u001b[34;01mmypackage\u001b[39;00m\u001b[38;5;250m \u001b[39m\u001b[38;5;28;01mimport\u001b[39;00m module1\n\u001b[32m      8\u001b[39m module1.some_function()\n",
      "\u001b[31mModuleNotFoundError\u001b[39m: No module named 'mypackage'"
     ]
    }
   ],
   "source": [
    "## 모듈과 패키지 사용법\n",
    "\n",
    "# math 모듈사용import math\n",
    "print(math.sqrt(16)) # 4.0\n",
    "\n",
    " # 패키지사용\n",
    "from mypackage import module1\n",
    "module1.some_function()"
   ]
  },
  {
   "cell_type": "code",
   "execution_count": null,
   "id": "8f3b03a8",
   "metadata": {},
   "outputs": [],
   "source": [
    "## __init__.py 내용\n",
    "\n",
    "# __init__.py\n",
    " ## 패키지이름: mypackage\n",
    " ## 패키지초기화및메타데이터설정\n",
    "__version__ = \"1.0.0\"\n",
    "__author__ = \"Your Name\"\n",
    " ## __init__.py 위치\n",
    "# ...\n",
    "# mypackage/\n",
    "# │\n",
    "# ├── __init__.py # 패키지초기화파일\n",
    "# ├── module1.py\n",
    "# └── module2.py\n",
    "# ...\n",
    "# ..."
   ]
  },
  {
   "cell_type": "code",
   "execution_count": null,
   "id": "524f84e4",
   "metadata": {},
   "outputs": [
    {
     "ename": "ImportError",
     "evalue": "attempted relative import with no known parent package",
     "output_type": "error",
     "traceback": [
      "\u001b[31m---------------------------------------------------------------------------\u001b[39m",
      "\u001b[31mImportError\u001b[39m                               Traceback (most recent call last)",
      "\u001b[36mCell\u001b[39m\u001b[36m \u001b[39m\u001b[32mIn[28]\u001b[39m\u001b[32m, line 2\u001b[39m\n\u001b[32m      1\u001b[39m \u001b[38;5;66;03m# 패키지 내 주요 클래스/함수 노출\u001b[39;00m\n\u001b[32m----> \u001b[39m\u001b[32m2\u001b[39m \u001b[38;5;28;01mfrom\u001b[39;00m\u001b[38;5;250m \u001b[39m\u001b[34;01m.\u001b[39;00m\u001b[34;01mmodule1\u001b[39;00m\u001b[38;5;250m \u001b[39m\u001b[38;5;28;01mimport\u001b[39;00m Class1\n\u001b[32m      3\u001b[39m \u001b[38;5;28;01mfrom\u001b[39;00m\u001b[38;5;250m \u001b[39m\u001b[34;01m.\u001b[39;00m\u001b[34;01mmodule2\u001b[39;00m\u001b[38;5;250m \u001b[39m\u001b[38;5;28;01mimport\u001b[39;00m function2\n\u001b[32m      5\u001b[39m \u001b[38;5;28mprint\u001b[39m(\u001b[33m\"\u001b[39m\u001b[33mmypackage 패키지가 로드되었습니다.\u001b[39m\u001b[33m\"\u001b[39m)\n",
      "\u001b[31mImportError\u001b[39m: attempted relative import with no known parent package"
     ]
    }
   ],
   "source": [
    " ## 패키지 내 주요 클래스 및 함수 노출\n",
    "from .module1 import Class1\n",
    "from .module2 import function2\n",
    "print(\"mypackage 패키지가로드되었습니다.\")\n",
    "\n",
    "\n",
    "# ...\n",
    "# 외부에서다음과같이사용:\n",
    "\n",
    "from mypackage import Class1, function2\n",
    " ## 동적모듈로딩\n",
    "import importlib\n",
    "def load_module(name):\n",
    "    return  \\\n",
    "        importlib.import_module(f\".{name}\",package=__name__) "
   ]
  },
  {
   "cell_type": "markdown",
   "id": "75a6e709",
   "metadata": {},
   "source": [
    "## 09. 파이썬 가상환경---------------------"
   ]
  },
  {
   "cell_type": "markdown",
   "id": "58117d71",
   "metadata": {},
   "source": [
    "### 가상환경이란?\n",
    "\n",
    "- 프로젝트별로독립된파이썬환경을만드는도구\n",
    "\n",
    "- 각 프로젝트가서로다른패키지버전을사용할수있게함\n",
    "\n",
    "- 시스템파이썬환경을오염시키지않음"
   ]
  },
  {
   "cell_type": "markdown",
   "id": "9f60f182",
   "metadata": {},
   "source": [
    "#### 1. venv"
   ]
  },
  {
   "cell_type": "code",
   "execution_count": null,
   "id": "98891f52",
   "metadata": {},
   "outputs": [],
   "source": [
    " # 가상환경생성(.venv 폴더생성되고그아래모든정보가저장됨)\n",
    " python –m venv .myvenv (python –m venv --help,--copies, --clear, --upgrade, --prompt)\n",
    "\n",
    " # Windows에서활성화\n",
    ".\\.venv\\Scripts\\activate # ➔ (.venv) 프롬프트생김\n",
    "\n",
    "# 활성화시오류가발생하면현재실행정책확인\n",
    "Get-ExecutionPolicy\n",
    "\n",
    "# 현재사용자에대해서만실행정책변경(최초1번)\n",
    "Set-ExecutionPolicy -ExecutionPolicy RemoteSigned -Scope CurrentUser\n",
    "\n",
    "# macOS/Linux에서활성화\n",
    "# source myenv/bin/activate\n",
    "\n",
    "# 비활성화(모든OS 공통)\n",
    "deactivate"
   ]
  },
  {
   "cell_type": "markdown",
   "id": "71c30a92",
   "metadata": {},
   "source": [
    "#### 2. conda"
   ]
  },
  {
   "cell_type": "code",
   "execution_count": null,
   "id": "2d654fd6",
   "metadata": {},
   "outputs": [],
   "source": [
    "# 가상환경 생성\n",
    "conda create -n myenv python=3.9\n",
    "\n",
    "# 활성화\n",
    "conda activate myenv\n",
    "\n",
    "# 비활성화\n",
    "conda deactivate\n",
    "\n",
    "# 환경목록보기\n",
    "conda env list\n",
    "\n",
    "# 환경삭제\n",
    "conda env remove -n myenv"
   ]
  },
  {
   "cell_type": "markdown",
   "id": "1d22bc73",
   "metadata": {},
   "source": [
    "#### 3. virtualenv"
   ]
  },
  {
   "cell_type": "code",
   "execution_count": null,
   "id": "41a3053d",
   "metadata": {},
   "outputs": [],
   "source": [
    "#설치\n",
    "pip install virtualenv\n",
    "\n",
    "# 가상환경생성\n",
    "virtualenv myenv\n",
    "\n",
    "# 특정파이썬버전으로생성\n",
    "virtualenv -p python3.9 myenv     # 특정파이썬버전으로생성\n",
    "virtualenv --python=python3.8 myenv  # 긴옵션형태\n",
    "virtualenv -p /usr/bin/python3 myenv  # 절대경로로지정\n"
   ]
  }
 ],
 "metadata": {
  "kernelspec": {
   "display_name": ".venv",
   "language": "python",
   "name": "python3"
  },
  "language_info": {
   "codemirror_mode": {
    "name": "ipython",
    "version": 3
   },
   "file_extension": ".py",
   "mimetype": "text/x-python",
   "name": "python",
   "nbconvert_exporter": "python",
   "pygments_lexer": "ipython3",
   "version": "3.13.7"
  }
 },
 "nbformat": 4,
 "nbformat_minor": 5
}
