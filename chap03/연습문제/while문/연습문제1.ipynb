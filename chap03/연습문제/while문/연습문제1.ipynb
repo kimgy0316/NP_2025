{
 "cells": [
  {
   "cell_type": "markdown",
   "id": "cf470bf4",
   "metadata": {},
   "source": [
    "## 3장 노트정리\n",
    "\n",
    "이 파일은 3장을 학습하면서 실행한 내용을 정리한 것이다.\n",
    "\n",
    "날짜 : 2025.9.16\n",
    "\n",
    "작성자 : 김경연 (202311383)"
   ]
  },
  {
   "cell_type": "code",
   "execution_count": 1,
   "id": "5df4c3ef",
   "metadata": {},
   "outputs": [
    {
     "name": "stdout",
     "output_type": "stream",
     "text": [
      "2진수= 101\n"
     ]
    }
   ],
   "source": [
    "n = int(input('Number: '))\n",
    "result = ''\n",
    "\n",
    "while n != 0:\n",
    "    m = n % 2\n",
    "    result = str(m) + result\n",
    "    n = n // 2 #몫\n",
    "\n",
    "print(\"2진수=\", result)\n"
   ]
  }
 ],
 "metadata": {
  "kernelspec": {
   "display_name": ".venv",
   "language": "python",
   "name": "python3"
  },
  "language_info": {
   "codemirror_mode": {
    "name": "ipython",
    "version": 3
   },
   "file_extension": ".py",
   "mimetype": "text/x-python",
   "name": "python",
   "nbconvert_exporter": "python",
   "pygments_lexer": "ipython3",
   "version": "3.13.7"
  }
 },
 "nbformat": 4,
 "nbformat_minor": 5
}
