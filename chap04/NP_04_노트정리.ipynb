{
 "cells": [
  {
   "cell_type": "markdown",
   "id": "9c11d33f",
   "metadata": {},
   "source": [
    "## 4장 노트정리\n",
    "\n",
    "이 파일은 4장을 학습하면서 실행한 내용을 정리한 것이다.\n",
    "\n",
    "날짜 : 2025.9.9\n",
    "\n",
    "작성자 : 김경연 (202311383)"
   ]
  },
  {
   "cell_type": "markdown",
   "id": "74da49ad",
   "metadata": {},
   "source": [
    "## 문자열 요소(문자)를 개별적으로 사용하기\n",
    "\n",
    ">>> word = 'Python'\n",
    ">>> word[0]\n",
    "'P'\n",
    ">>> word[5]\n",
    "'n'"
   ]
  },
  {
   "cell_type": "markdown",
   "id": "d94590e1",
   "metadata": {},
   "source": [
    ">>> word = 'Python'\n",
    ">>> word[-1]\n",
    "'n'\n",
    ">>> word[-6]\n",
    "'P'"
   ]
  },
  {
   "cell_type": "markdown",
   "id": "154a7908",
   "metadata": {},
   "source": [
    "## 문자열 슬라이싱 (잘라내기)\n",
    ">>> word = 'Python'\n",
    ">>> word[0:2]\n",
    "'Py'\n",
    ">>> word[0:5]\n",
    "'Pytho'\n",
    ">>> word[:2]\n",
    "'Py'\n",
    ">>> word[4:]\n",
    "'on'\n",
    ">>> word[-2:]\n",
    "'on'\n"
   ]
  },
  {
   "cell_type": "markdown",
   "id": "61d2291b",
   "metadata": {},
   "source": [
    ">>> word = 'Python'\n",
    ">>> word[:2]\n",
    "'Py'\n",
    ">>> word[2:]\n",
    "'thon'\n",
    ">>> word[:2]+word[2:]\n",
    "'Python'"
   ]
  },
  {
   "cell_type": "markdown",
   "id": "db251fd7",
   "metadata": {},
   "source": [
    "## 문자역 인덱싱과 슬라이싱 오류\n",
    "\n",
    ">>> word[42]\n",
    "Traceback (most recent call last):\n",
    "  File \"<python-input-26>\", line 1, in <module>    \n",
    "    word[42]\n",
    "    ~~~~^^^^\n",
    "IndexError: string index out of range"
   ]
  },
  {
   "cell_type": "markdown",
   "id": "1a34af98",
   "metadata": {},
   "source": [
    ">>> word = 'Python'\n",
    ">>> word[4:42]\n",
    "'on'\n",
    ">>> word[42:]\n",
    "''"
   ]
  },
  {
   "cell_type": "markdown",
   "id": "4cc4d1a1",
   "metadata": {},
   "source": [
    "## 문자열은 수정 불가-immutable\n",
    "\n",
    ">>> word[0] = 'J'\n",
    "Traceback (most recent call last):\n",
    "  File \"<stdin>\", line 1, in <module>\n",
    "    import platform\n",
    "    ^^^^^^^\n",
    "TypeError: 'str' object does not support item assignment"
   ]
  },
  {
   "cell_type": "markdown",
   "id": "9899bbc3",
   "metadata": {},
   "source": [
    "## 슬라이싱을 이용하여 새로운 문자열 만들기\n",
    "\n",
    ">>> word = 'Python'\n",
    ">>> word2 = 'J' + word[1:]\n",
    ">>> word2\n",
    "'Jython'"
   ]
  },
  {
   "cell_type": "markdown",
   "id": "a797a2fc",
   "metadata": {},
   "source": [
    "## 문자열 길이 확인-len()\n",
    "\n",
    ">>> s = 'smiles'\n",
    ">>> len(s)\n",
    "6"
   ]
  },
  {
   "cell_type": "markdown",
   "id": "c93403f4",
   "metadata": {},
   "source": [
    "## 문자열에서 문자 조사하기 - in/not in 연산자(멤버 연산자)\n",
    "\n",
    ">>> 'a'in 'cat'\n",
    "True\n",
    ">>> 'a'not in 'can'\n",
    "False"
   ]
  },
  {
   "cell_type": "markdown",
   "id": "2fd3f127",
   "metadata": {},
   "source": [
    "## 문자열과메소드-dir(str), help(str.method)\n",
    "\n",
    ">>> str = 'Python programming is easy!'\n",
    ">>> str.count('i')\n",
    "2\n",
    ">>> str.find('o')\n",
    "4\n",
    ">>> str.rfind('o')\n",
    "9\n",
    ">>> str.index('on')\n",
    "4"
   ]
  },
  {
   "cell_type": "markdown",
   "id": "36f15ef9",
   "metadata": {},
   "source": [
    "## 문자열 분리하기\n",
    "\n",
    ">>> x = 'a bc'\n",
    ">>> x.split()\n",
    "['a', 'bc']\n",
    ">>> x.split('b')\n",
    "['a ', 'c']"
   ]
  },
  {
   "cell_type": "markdown",
   "id": "ec839117",
   "metadata": {},
   "source": [
    "## 문자열에서 공백 제거하기\n",
    "\n",
    ">>> str = ' hello '\n",
    ">>> str.strip()\n",
    "'hello'\n",
    ">>> str\n",
    "' hello '\n",
    ">>> str.rstrip()\n",
    "' hello'\n",
    ">>> str.lstrip()\n",
    "'hello '"
   ]
  },
  {
   "cell_type": "markdown",
   "id": "10c46b57",
   "metadata": {},
   "source": [
    "## 문자열결합하기\n",
    "\n",
    ">>> '*'.join('hello')\n",
    "'h*e*l*l*o'"
   ]
  },
  {
   "cell_type": "markdown",
   "id": "e7493df9",
   "metadata": {},
   "source": [
    "## 문자열채우기\n",
    "\n",
    ">>> '12'.zfill(5)\n",
    "'00012'"
   ]
  },
  {
   "cell_type": "markdown",
   "id": "47b8f784",
   "metadata": {},
   "source": [
    "## 문자열정렬하기\n",
    "\n",
    ">>> 'he'.rjust(5)\n",
    "'   he'\n",
    ">>> 'he'.ljust(5)\n",
    "'he   '\n",
    ">>> 'he'.center(5)\n",
    "'  he '"
   ]
  },
  {
   "cell_type": "markdown",
   "id": "33bdcf69",
   "metadata": {},
   "source": [
    "# 리스트\n",
    "*****************************************************************"
   ]
  },
  {
   "cell_type": "markdown",
   "id": "2576a300",
   "metadata": {},
   "source": [
    "## 리스트는여러개의데이터를하나의이름으로저장하는자료구조\n",
    "\n",
    ">>> odd = [1, 3, 5, 7, 9]\n",
    ">>> squares = [1, 4, 9, 16, 25]\n",
    ">>> squares\n",
    "[1, 4, 9, 16, 25]\n",
    ">>>\n",
    ">>> empty = []\n",
    ">>> empty\n",
    "[]\n",
    ">>> a = [1, 'hello', 2, 'world', 1.23]"
   ]
  },
  {
   "cell_type": "markdown",
   "id": "8d0983c8",
   "metadata": {},
   "source": [
    "## 리스트의인덱싱(요소접근하기)과슬라이싱(잘라내기)\n",
    "\n",
    ">>> squares = [1, 4, 9, 16, 25]\n",
    ">>> squares[0]\n",
    "1\n",
    ">>> squares[-1]\n",
    "25\n",
    ">>> squares[0:3]\n",
    "[1, 4, 9]\n",
    ">>> squares[-3:]\n",
    "[9, 16, 25]"
   ]
  },
  {
   "cell_type": "markdown",
   "id": "5de0d16f",
   "metadata": {},
   "source": [
    "## 리스트합치기\n",
    "\n",
    ">>> squares + [36, 49, 64, 81, 100]\n",
    "[1, 4, 9, 16, 25, 36, 49, 64, 81, 100]\n",
    ">>> a = [1, 2, 3]\n",
    ">>> b = [4, 5, 6]\n",
    ">>> a + b\n",
    "[1, 2, 3, 4, 5, 6]"
   ]
  },
  {
   "cell_type": "markdown",
   "id": "e083363c",
   "metadata": {},
   "source": [
    "## 리스트의요소 수정, 추가하기\n",
    "\n",
    ">>> cubes = [1, 8, 27, 65, 125]\n",
    ">>> 4 ** 3\n",
    "64\n",
    ">>> cubes[3] = 64\n",
    ">>> cubes\n",
    "[1, 8, 27, 64, 125]\n",
    ">>> cubes.append(216) \n",
    ">>> cubes.append(7 ** 3)\n",
    ">>> cubes\n",
    "[1, 8, 27, 64, 125, 216, 343]"
   ]
  },
  {
   "cell_type": "markdown",
   "id": "eb44fc91",
   "metadata": {},
   "source": [
    "## 리스트의요소 수정\n",
    "\n",
    ">>> letters = ['a', 'b', 'c', 'd', 'e', 'f', 'g']\n",
    ">>> letters\n",
    "['a', 'b', 'c', 'd', 'e', 'f', 'g']\n",
    ">>> letters[2:5] = ['C', 'D', 'E']\n",
    ">>> letters\n",
    "['a', 'b', 'C', 'D', 'E', 'f', 'g']\n",
    ">>> letters[2:5] = []\n",
    ">>> letters\n",
    "['a', 'b', 'f', 'g']\n",
    ">>> letters[:] = []\n",
    ">>> letters\n",
    "[]"
   ]
  },
  {
   "cell_type": "markdown",
   "id": "9c9a2502",
   "metadata": {},
   "source": [
    "## 중첩리스트\n",
    "\n",
    ">>> a = ['a', 'b', 'c']\n",
    ">>> n = [1, 2, 3]\n",
    ">>> x = [a, n]\n",
    ">>> x\n",
    "[['a', 'b', 'c'], [1, 2, 3]]\n",
    ">>> x[0]\n",
    "['a', 'b', 'c']\n",
    ">>> x[0][1]\n",
    "'b'"
   ]
  },
  {
   "cell_type": "markdown",
   "id": "990e061f",
   "metadata": {},
   "source": [
    "## 2차원 리스트\n",
    "\n",
    ">>> list2d = [[1,2,3], [4,5,6], [7,8,9]]\n",
    ">>> list2d[0][0]\n",
    "1\n",
    ">>> list2d[2][2]\n",
    "9"
   ]
  },
  {
   "cell_type": "markdown",
   "id": "a3a5a04e",
   "metadata": {},
   "source": [
    "## 내장함수를이용한리스트다루기\n",
    "\n",
    "## 리스트 길이 알아내기\n",
    "\n",
    ">>> letters = ['a', 'b', 'c', 'd']\n",
    ">>> len(letters)\n",
    "4\n",
    "\n",
    "\n",
    "## 리스트 요소 합, 최소값, 최대값 구하기\n",
    "\n",
    ">>> num = [1, 2, 3, 4, 5]\n",
    ">>> sum(num)\n",
    "15\n",
    ">>> min(num)\n",
    "1\n",
    ">>> max(num)\n",
    "5\n",
    "\n"
   ]
  },
  {
   "cell_type": "code",
   "execution_count": 2,
   "id": "5ebb654a",
   "metadata": {},
   "outputs": [
    {
     "name": "stdout",
     "output_type": "stream",
     "text": [
      "['bus', 'sedan', 'taxi', 'truck']\n",
      "['truck', 'taxi', 'sedan', 'bus']\n",
      "Here is the original list:\n",
      "['truck', 'taxi', 'sedan', 'bus']\n",
      "\n",
      "Here is the sorted list:\n",
      "['bus', 'sedan', 'taxi', 'truck']\n",
      "\n",
      "Here is the original list again:\n",
      "['truck', 'taxi', 'sedan', 'bus']\n"
     ]
    }
   ],
   "source": [
    "## 리스트 요소 순서 나열\n",
    "\n",
    "cars = ['taxi', 'sedan', 'bus', 'truck']\n",
    "cars.sort() #오름차순으로배열\n",
    "print(cars)\n",
    "\n",
    "cars.sort(reverse=True) #역순배열\n",
    "print(cars)\n",
    "\n",
    "print(\"Here is the original list:\")\n",
    "print(cars)\n",
    "print(\"\\nHere is the sorted list:\")\n",
    "print(sorted(cars))\n",
    "print(\"\\nHere is the original list again:\")\n",
    "print(cars)"
   ]
  },
  {
   "cell_type": "code",
   "execution_count": 3,
   "id": "6e4011c1",
   "metadata": {},
   "outputs": [
    {
     "name": "stdout",
     "output_type": "stream",
     "text": [
      "['taxi', 'sedan', 'bus', 'truck ']\n",
      "['truck ', 'bus', 'sedan', 'taxi']\n"
     ]
    }
   ],
   "source": [
    "## 리스트역순으로출력하기\n",
    "\n",
    "cars = ['taxi', 'sedan', 'bus', 'truck ']\n",
    "print(cars)\n",
    "cars.reverse()\n",
    "print(cars)"
   ]
  },
  {
   "cell_type": "code",
   "execution_count": 4,
   "id": "3d43c9bb",
   "metadata": {},
   "outputs": [
    {
     "ename": "SyntaxError",
     "evalue": "invalid syntax. Perhaps you forgot a comma? (2691207857.py, line 6)",
     "output_type": "error",
     "traceback": [
      "  \u001b[36mCell\u001b[39m\u001b[36m \u001b[39m\u001b[32mIn[4]\u001b[39m\u001b[32m, line 6\u001b[39m\n\u001b[31m    \u001b[39m\u001b[31mTraceback (most recent call last):\u001b[39m\n               ^\n\u001b[31mSyntaxError\u001b[39m\u001b[31m:\u001b[39m invalid syntax. Perhaps you forgot a comma?\n"
     ]
    }
   ],
   "source": [
    "## 리스트관련에러\n",
    "\n",
    "motorcycles = ['honda', 'yamaha', 'suzuki']\n",
    "print(motorcycles[3])\n",
    "\n",
    "Traceback (most recent call last):\n",
    "File \"motorcycles.py\", line 3, in <module>\n",
    "print(motorcycles[3])\n",
    "IndexError: list index out of range"
   ]
  },
  {
   "cell_type": "code",
   "execution_count": 5,
   "id": "ec33206a",
   "metadata": {},
   "outputs": [
    {
     "data": {
      "text/plain": [
       "[0, 1, 4, 9, 8, 25, 12, 49, 16, 81]"
      ]
     },
     "execution_count": 5,
     "metadata": {},
     "output_type": "execute_result"
    }
   ],
   "source": [
    "## 리스트내포\n",
    "\n",
    " #a 원소의3배수로구성되는리스트생성\n",
    "a = [1, 2, 3, 4]\n",
    "result = [num*3 for num in a]\n",
    "\n",
    " #a의원소중짝수인원소의3배수로구성되는리스트생성\n",
    "result = [num*3 for num in a if num % 2 == 0]\n",
    "\n",
    " #짝수의2배수나홀수의제곱을원소로갖는리스트생성\n",
    "[i*2 if i%2 == 0 else i**2 for i in range(10) ]"
   ]
  },
  {
   "cell_type": "markdown",
   "id": "7dbba2ad",
   "metadata": {},
   "source": [
    "## 튜플\n",
    "-----------------------------------------------------------------"
   ]
  },
  {
   "cell_type": "markdown",
   "id": "d520bf03",
   "metadata": {},
   "source": [
    "## 튜플 만들기\n",
    "\n",
    ">>> t1 = (1,2,3)\n",
    ">>> t1\n",
    "(1, 2, 3)\n",
    ">>> t2 = 1,2,3\n",
    ">>> t2\n",
    "(1, 2, 3)\n",
    ">>> t3 = 1,\n",
    ">>> t3\n",
    "(1,)\n",
    ">>> t4 = tuple()"
   ]
  },
  {
   "cell_type": "markdown",
   "id": "a2f039f2",
   "metadata": {},
   "source": [
    "## 튜플 요소 접근하기(인덱싱과 슬라이싱)\n",
    "\n",
    ">>> t1 = (1,2,3)\n",
    ">>> t1[1] \n",
    "2\n",
    ">>> t1[1:3]\n",
    "(2, 3)"
   ]
  },
  {
   "cell_type": "markdown",
   "id": "92fe4f17",
   "metadata": {},
   "source": [
    "## 튜플 연산\n",
    "\n",
    ">>> t1 = (1,2,3)\n",
    ">>> t2 = ('a','b')\n",
    ">>> t1 + t2\n",
    "(1, 2, 3, 'a', 'b')\n",
    ">>> t1*2\n",
    "(1, 2, 3, 1, 2, 3)"
   ]
  },
  {
   "cell_type": "markdown",
   "id": "f06dfa58",
   "metadata": {},
   "source": [
    "## 튜플과 리스트 상호 변환\n",
    "\n",
    ">>> T1=(1,2,3)\n",
    ">>> L1=list(T1)\n",
    ">>> L1.append(4)\n",
    ">>> T1=tuple(L1)\n",
    ">>> T1\n",
    "(1, 2, 3, 4)"
   ]
  },
  {
   "cell_type": "markdown",
   "id": "a24a23b1",
   "metadata": {},
   "source": [
    "## 튜플 언패킹\n",
    "\n",
    ">>> a, b, c = (1, 2, 3)\n",
    ">>> a\n",
    "1\n",
    ">>> b\n",
    "2\n",
    ">>> c\n",
    "3"
   ]
  },
  {
   "cell_type": "markdown",
   "id": "f57fa234",
   "metadata": {},
   "source": [
    "## 집합\n",
    "---------------------------------------------------------------"
   ]
  },
  {
   "cell_type": "code",
   "execution_count": 1,
   "id": "56b32ab7",
   "metadata": {},
   "outputs": [],
   "source": [
    "## 집합의 생성\n",
    "\n",
    "numbers = {1,2,3}\n",
    "name = set(['Kim', 'Lee', 'Park'])"
   ]
  },
  {
   "cell_type": "markdown",
   "id": "37444577",
   "metadata": {},
   "source": [
    "## 빈집합생성, 개수확인, 요소추가, 요소제거하기\n",
    "\n",
    ">>> empty = set()\n",
    ">>> numbers = {1,2,3}\n",
    ">>> len(numbers)\n",
    "3\n",
    ">>> numbers.add(4)\n",
    ">>> numbers   \n",
    "{1, 2, 3, 4}\n",
    ">>> numbers.remove(4)\n",
    ">>> numbers\n",
    "{1, 2, 3}"
   ]
  },
  {
   "cell_type": "markdown",
   "id": "7e4df19e",
   "metadata": {},
   "source": [
    "## 집합의 연산\n",
    "\n",
    ">>> setA={1,2,3}\n",
    ">>> setB={2,3,4}\n",
    ">>> setA & setB\n",
    "{2, 3}\n",
    ">>> setA | setB\n",
    "{1, 2, 3, 4}\n",
    ">>> setA - setB \n",
    "{1}"
   ]
  },
  {
   "cell_type": "markdown",
   "id": "91183e9d",
   "metadata": {},
   "source": [
    "## 부분 집합 연산\n",
    "\n",
    ">>> setA = {1, 2, 3}\n",
    ">>> setB = {1, 2, 3}\n",
    ">>> setA == setB\n",
    "True\n",
    ">>> setA = {1, 2, 3, 4, 5, 6}\n",
    ">>> setB = {1, 2, 3}\n",
    ">>> setB < setA\n",
    "True\n",
    ">>> setB.issubset(setA)\n",
    "True"
   ]
  },
  {
   "cell_type": "code",
   "execution_count": 2,
   "id": "3c8e54d6",
   "metadata": {},
   "outputs": [
    {
     "name": "stdout",
     "output_type": "stream",
     "text": [
      "{3, 5, 7, 45, 17, 24}\n",
      "[3, 5, 7, 17, 24, 45]\n"
     ]
    }
   ],
   "source": [
    "## 1부터45까지의수중에서6개를선택하여로또번호를만드는프로그램\n",
    "\n",
    "import random\n",
    "pick = set()\n",
    "while len(pick) < 6:\n",
    "  n = random.randint(1,45) \n",
    "  if n not in pick:\n",
    "    pick.add(n) \n",
    "print(pick)\n",
    "print(sorted(pick))"
   ]
  }
 ],
 "metadata": {
  "kernelspec": {
   "display_name": ".venv",
   "language": "python",
   "name": "python3"
  },
  "language_info": {
   "codemirror_mode": {
    "name": "ipython",
    "version": 3
   },
   "file_extension": ".py",
   "mimetype": "text/x-python",
   "name": "python",
   "nbconvert_exporter": "python",
   "pygments_lexer": "ipython3",
   "version": "3.13.7"
  }
 },
 "nbformat": 4,
 "nbformat_minor": 5
}
