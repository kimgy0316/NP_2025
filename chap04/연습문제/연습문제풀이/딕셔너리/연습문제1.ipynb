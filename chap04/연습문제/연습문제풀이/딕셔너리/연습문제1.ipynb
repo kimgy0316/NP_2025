{
 "cells": [
  {
   "cell_type": "markdown",
   "id": "54dcddac",
   "metadata": {},
   "source": [
    "## 4장 노트정리\n",
    "\n",
    "이 파일은 4장을 학습하면서 실행한 내용을 정리한 것이다.\n",
    "\n",
    "날짜 : 2025.9.9\n",
    "\n",
    "작성자 : 김경연 (202311383)"
   ]
  },
  {
   "cell_type": "markdown",
   "id": "1e9d95d1",
   "metadata": {},
   "source": [
    "## 다음딕셔너리에대해물음에답하라.\n",
    " days = {'January':31, 'February':28, 'March':31, 'April':30,\n",
    " 'May':31, 'June':30, 'July':31, 'August':31,\n",
    " 'September':30, 'October':31, 'November':30, 'December':31}"
   ]
  },
  {
   "cell_type": "code",
   "execution_count": 2,
   "id": "3fd78713",
   "metadata": {},
   "outputs": [
    {
     "name": "stdout",
     "output_type": "stream",
     "text": [
      "잘못된 월 입력!\n",
      "\n",
      "알파벳 순서 월 목록:\n",
      "April\n",
      "August\n",
      "December\n",
      "February\n",
      "January\n",
      "July\n",
      "June\n",
      "March\n",
      "May\n",
      "November\n",
      "October\n",
      "September\n",
      "\n",
      "일수가 31일인 월:\n",
      "January\n",
      "March\n",
      "May\n",
      "July\n",
      "August\n",
      "October\n",
      "December\n",
      "\n",
      "일수 기준 오름차순 정렬:\n",
      "February : 28\n",
      "April : 30\n",
      "June : 30\n",
      "September : 30\n",
      "November : 30\n",
      "January : 31\n",
      "March : 31\n",
      "May : 31\n",
      "July : 31\n",
      "August : 31\n",
      "October : 31\n",
      "December : 31\n",
      "January는 31일까지 있습니다.\n"
     ]
    }
   ],
   "source": [
    "# 딕셔너리 정의\n",
    "days = {\n",
    "    'January': 31, 'February': 28, 'March': 31, 'April': 30,\n",
    "    'May': 31, 'June': 30, 'July': 31, 'August': 31,\n",
    "    'September': 30, 'October': 31, 'November': 30, 'December': 31\n",
    "}\n",
    "\n",
    "# 1) 사용자가 월을 입력하면 해당 월의 일수 출력\n",
    "month = input(\"월을 입력하세요 (예: March): \")\n",
    "if month in days:\n",
    "    print(f\"{month}는 {days[month]}일까지 있습니다.\")\n",
    "else:\n",
    "    print(\"잘못된 월 입력!\")\n",
    "\n",
    "# 2) 알파벳 순서로 모든 월 출력\n",
    "print(\"\\n알파벳 순서 월 목록:\")\n",
    "for m in sorted(days.keys()):\n",
    "    print(m)\n",
    "\n",
    "# 3) 일수가 31인 월 출력\n",
    "print(\"\\n일수가 31일인 월:\")\n",
    "for m, d in days.items():\n",
    "    if d == 31:\n",
    "        print(m)\n",
    "\n",
    "# 4) 월의 일수를 기준으로 오름차순 (key-value 쌍) 출력\n",
    "print(\"\\n일수 기준 오름차순 정렬:\")\n",
    "for m, d in sorted(days.items(), key=lambda x: x[1]):\n",
    "    print(m, \":\", d)\n",
    "\n",
    "# 5) 사용자가 월을 3자리만 입력하면 일수 출력 (예: Jan, Feb)\n",
    "short = input(\"\\n3자리 월을 입력하세요 (예: Jan): \")\n",
    "# 첫 글자 대문자 + 나머지 소문자 처리 (Jan → January)\n",
    "for m in days.keys():\n",
    "    if m.startswith(short.capitalize()):\n",
    "        print(f\"{m}는 {days[m]}일까지 있습니다.\")\n",
    "        break\n",
    "else:\n",
    "    print(\"잘못된 입력!\")"
   ]
  }
 ],
 "metadata": {
  "kernelspec": {
   "display_name": ".venv",
   "language": "python",
   "name": "python3"
  },
  "language_info": {
   "codemirror_mode": {
    "name": "ipython",
    "version": 3
   },
   "file_extension": ".py",
   "mimetype": "text/x-python",
   "name": "python",
   "nbconvert_exporter": "python",
   "pygments_lexer": "ipython3",
   "version": "3.13.7"
  }
 },
 "nbformat": 4,
 "nbformat_minor": 5
}
