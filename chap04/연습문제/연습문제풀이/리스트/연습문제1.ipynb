{
 "cells": [
  {
   "cell_type": "markdown",
   "id": "f6e21176",
   "metadata": {},
   "source": [
    "## 4장 노트정리\n",
    "\n",
    "이 파일은 4장을 학습하면서 실행한 내용을 정리한 것이다.\n",
    "\n",
    "날짜 : 2025.9.9\n",
    "\n",
    "작성자 : 김경연 (202311383)"
   ]
  },
  {
   "cell_type": "code",
   "execution_count": 1,
   "id": "6487ca9a",
   "metadata": {},
   "outputs": [
    {
     "name": "stdout",
     "output_type": "stream",
     "text": [
      "친구 리스트 결과: ['지수', '철수', '현우', '영희', '민수', '수지']\n"
     ]
    }
   ],
   "source": [
    "## 3명이상친구이름리스트를작성하고다음내용을프로그램하시오.\n",
    "\n",
    "# 친구 이름 리스트\n",
    "friends = [\"철수\", \"영희\", \"민수\"]\n",
    "\n",
    "# 1) 맨 앞에 새로운 친구 추가\n",
    "friends.insert(0, \"지수\")\n",
    "\n",
    "# 2) 3번째 위치(인덱스 2)에 새로운 친구 추가\n",
    "friends.insert(2, \"현우\")\n",
    "\n",
    "# 3) 마지막에 친구 추가\n",
    "friends.append(\"수지\")\n",
    "\n",
    "print(\"친구 리스트 결과:\", friends)"
   ]
  },
  {
   "cell_type": "code",
   "execution_count": 2,
   "id": "da010e86",
   "metadata": {},
   "outputs": [
    {
     "name": "stdout",
     "output_type": "stream",
     "text": [
      "숫자 리스트 결과: [3, 4, 5, 25, 6, 17]\n"
     ]
    }
   ],
   "source": [
    "## 리스트[1, 2, 3]에 대해 다음과같은처리를하라\n",
    "\n",
    "# 리스트 [1, 2, 3]에 대한 처리\n",
    "nums = [1, 2, 3]\n",
    "\n",
    "# 1) 두 번째 요소를 17로 수정\n",
    "nums[1] = 17\n",
    "\n",
    "# 2) 리스트에 4, 5, 6 추가\n",
    "nums.extend([4, 5, 6])\n",
    "\n",
    "# 3) 첫 번째 요소 제거\n",
    "del nums[0]\n",
    "\n",
    "# 4) 리스트를 요소 순서대로 배열\n",
    "nums.sort()\n",
    "\n",
    "# 5) 인덱스 3에 25 넣기\n",
    "nums.insert(3, 25)\n",
    "\n",
    "print(\"숫자 리스트 결과:\", nums)"
   ]
  },
  {
   "cell_type": "markdown",
   "id": "103f2e7e",
   "metadata": {},
   "source": [
    "## 딕셔너리\n",
    "-------------------------------------------------------------"
   ]
  },
  {
   "cell_type": "markdown",
   "id": "4abb39b2",
   "metadata": {},
   "source": [
    "## 딕셔너리 생성\n",
    "\n",
    ">>> height = {'Jun':174, 'Kim':170, 'Lee':165}\n",
    ">>> height\n",
    "{'Jun': 174, 'Kim': 170, 'Lee': 165}\n",
    ">>> test = dict()\n",
    ">>> test\n",
    "{}"
   ]
  },
  {
   "cell_type": "markdown",
   "id": "451a230c",
   "metadata": {},
   "source": [
    "## 딕셔너리 키 조사\n",
    "\n",
    ">>> height = {'Jun':174, 'Kim':170, 'Lee':165}\n",
    ">>> 'Kim' in height\n",
    "True"
   ]
  },
  {
   "cell_type": "markdown",
   "id": "7ade208b",
   "metadata": {},
   "source": [
    "## 딕셔너리 요소 수정, 추가하기\n",
    "\n",
    ">>> height['Lee'] = 180\n",
    ">>> height\n",
    "{'Jun': 174, 'Kim': 170, 'Lee': 180}\n",
    ">>> height['Ihm']=168\n",
    ">>> height\n",
    "{'Jun': 174, 'Kim': 170, 'Lee': 180, 'Ihm': 168}"
   ]
  },
  {
   "cell_type": "markdown",
   "id": "7b5e625a",
   "metadata": {},
   "source": [
    "## 딕셔너리의 키, 값, 요소를 뽑아내기\n",
    "\n",
    ">>> height.keys()\n",
    "dict_keys(['Jun', 'Kim', 'Lee', 'Ihm'])\n",
    ">>> height.values()\n",
    "dict_values([174, 170, 180, 168])\n",
    ">>> height.items()\n",
    "dict_items([('Jun', 174), ('Kim', 170), ('Lee', 180), ('Ihm', 168)])"
   ]
  },
  {
   "cell_type": "markdown",
   "id": "7b65d0e2",
   "metadata": {},
   "source": [
    "## 뽑아낸 키를 리스트로 변환하기\n",
    "\n",
    ">>> dict_keys = height.keys()\n",
    ">>> keys_list = list(dict_keys)\n",
    ">>> keys_list\n",
    "['Jun', 'Kim', 'Lee', 'Ihm']"
   ]
  },
  {
   "cell_type": "markdown",
   "id": "af7f6e17",
   "metadata": {},
   "source": [
    "## 딕셔너리 요소 제거하기\n",
    "\n",
    ">>> height.pop('Ihm')\n",
    "168\n",
    ">>> height\n",
    "{'Jun': 174, 'Kim': 170, 'Lee': 180}"
   ]
  },
  {
   "cell_type": "markdown",
   "id": "902ae050",
   "metadata": {},
   "source": [
    "## 딕셔너리 지우기\n",
    "\n",
    ">>> height.clear()\n",
    ">>> height\n",
    "{}"
   ]
  },
  {
   "cell_type": "markdown",
   "id": "06cd34e7",
   "metadata": {},
   "source": []
  }
 ],
 "metadata": {
  "kernelspec": {
   "display_name": ".venv",
   "language": "python",
   "name": "python3"
  },
  "language_info": {
   "codemirror_mode": {
    "name": "ipython",
    "version": 3
   },
   "file_extension": ".py",
   "mimetype": "text/x-python",
   "name": "python",
   "nbconvert_exporter": "python",
   "pygments_lexer": "ipython3",
   "version": "3.13.7"
  }
 },
 "nbformat": 4,
 "nbformat_minor": 5
}
