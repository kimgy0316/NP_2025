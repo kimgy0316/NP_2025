{
 "cells": [
  {
   "cell_type": "markdown",
   "id": "5d369be5",
   "metadata": {},
   "source": [
    "## 4장 노트정리\n",
    "\n",
    "이 파일은 4장을 학습하면서 실행한 내용을 정리한 것이다.\n",
    "\n",
    "날짜 : 2025.9.9\n",
    "\n",
    "작성자 : 김경연 (202311383)"
   ]
  },
  {
   "cell_type": "code",
   "execution_count": 1,
   "id": "046f72f1",
   "metadata": {},
   "outputs": [
    {
     "name": "stdout",
     "output_type": "stream",
     "text": [
      "0~49 리스트: [0, 1, 2, 3, 4, 5, 6, 7, 8, 9, 10, 11, 12, 13, 14, 15, 16, 17, 18, 19, 20, 21, 22, 23, 24, 25, 26, 27, 28, 29, 30, 31, 32, 33, 34, 35, 36, 37, 38, 39, 40, 41, 42, 43, 44, 45, 46, 47, 48, 49]\n",
      "1~50 제곱 리스트: [1, 4, 9, 16, 25, 36, 49, 64, 81, 100, 121, 144, 169, 196, 225, 256, 289, 324, 361, 400, 441, 484, 529, 576, 625, 676, 729, 784, 841, 900, 961, 1024, 1089, 1156, 1225, 1296, 1369, 1444, 1521, 1600, 1681, 1764, 1849, 1936, 2025, 2116, 2209, 2304, 2401, 2500]\n"
     ]
    }
   ],
   "source": [
    "## 1.for 루프를 이용하여다음과같은리스트를생성하라.\n",
    "\n",
    "# (1) 0~49까지의 수로 구성되는 리스트\n",
    "list1 = [i for i in range(50)]\n",
    "\n",
    "# (2) 1~50까지 수의 제곱으로 구성되는 리스트\n",
    "list2 = [i**2 for i in range(1, 51)]\n",
    "\n",
    "print(\"0~49 리스트:\", list1)\n",
    "print(\"1~50 제곱 리스트:\", list2)"
   ]
  },
  {
   "cell_type": "code",
   "execution_count": 2,
   "id": "761a8770",
   "metadata": {},
   "outputs": [
    {
     "name": "stdout",
     "output_type": "stream",
     "text": [
      "L: [1, 2, 3]\n",
      "M: [4, 5, 6]\n",
      "합 리스트: [5, 7, 9]\n"
     ]
    }
   ],
   "source": [
    "## 2. 크기가 같은 두 리스트의 각 요소 합으로 새로운 리스트 생성\n",
    "L = [1, 2, 3]\n",
    "M = [4, 5, 6]\n",
    "sum_list = [L[i] + M[i] for i in range(len(L))]\n",
    "\n",
    "print(\"L:\", L)\n",
    "print(\"M:\", M)\n",
    "print(\"합 리스트:\", sum_list)"
   ]
  },
  {
   "cell_type": "code",
   "execution_count": 3,
   "id": "ac2a058c",
   "metadata": {},
   "outputs": [
    {
     "name": "stdout",
     "output_type": "stream",
     "text": [
      "결과 문자열: \n"
     ]
    }
   ],
   "source": [
    "## 3. 사용자 입력을 받아 '+'로 연결된 문자열 생성\n",
    "# 입력 예: 2 5 11 33 55\n",
    "nums = input(\"숫자 5개를 공백으로 구분해 입력하세요: \").split()\n",
    "result = \"+\".join(nums)\n",
    "\n",
    "print(\"결과 문자열:\", result)"
   ]
  }
 ],
 "metadata": {
  "kernelspec": {
   "display_name": ".venv",
   "language": "python",
   "name": "python3"
  },
  "language_info": {
   "codemirror_mode": {
    "name": "ipython",
    "version": 3
   },
   "file_extension": ".py",
   "mimetype": "text/x-python",
   "name": "python",
   "nbconvert_exporter": "python",
   "pygments_lexer": "ipython3",
   "version": "3.13.7"
  }
 },
 "nbformat": 4,
 "nbformat_minor": 5
}
