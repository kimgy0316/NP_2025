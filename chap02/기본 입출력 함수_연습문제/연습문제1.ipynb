{
 "cells": [
  {
   "cell_type": "markdown",
   "id": "0cfca42b",
   "metadata": {},
   "source": [
    "## 2장 연습문제_기본 입출력 함수\n",
    "\n",
    "이 파일은 2장을 학습하면서 실습한 연습문제를 정리한 것이다.\n",
    "\n",
    "날짜 : 2025.09.10\n",
    "\n",
    "작성자 : 김경연 (202311383)"
   ]
  },
  {
   "cell_type": "markdown",
   "id": "093046da",
   "metadata": {},
   "source": []
  }
 ],
 "metadata": {
  "kernelspec": {
   "display_name": ".venv",
   "language": "python",
   "name": "python3"
  },
  "language_info": {
   "codemirror_mode": {
    "name": "ipython",
    "version": 3
   },
   "file_extension": ".py",
   "mimetype": "text/x-python",
   "name": "python",
   "nbconvert_exporter": "python",
   "pygments_lexer": "ipython3",
   "version": "3.13.7"
  }
 },
 "nbformat": 4,
 "nbformat_minor": 5
}
