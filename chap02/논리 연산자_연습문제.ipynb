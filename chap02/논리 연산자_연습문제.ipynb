{
 "cells": [
  {
   "cell_type": "markdown",
   "id": "06f22c11",
   "metadata": {},
   "source": [
    "## 2장 연습문제_논리 연산자\n",
    "\n",
    "이 파일은 2장을 학습하면서 실습한 연습문제를 정리한 것이다.\n",
    "\n",
    "날짜 : 2025.09.10\n",
    "\n",
    "작성자 : 김경연 (202311383)"
   ]
  },
  {
   "cell_type": "code",
   "execution_count": 2,
   "id": "7db9999d",
   "metadata": {},
   "outputs": [
    {
     "name": "stdout",
     "output_type": "stream",
     "text": [
      "5는 3보다 크고 7보다 작습니다.\n"
     ]
    }
   ],
   "source": [
    "# 논리 연산자 연습문제\n",
    "## 연습문제1\n",
    "## 5가3보다크고7보다작은지검사하는프로그램을작성하라.\n",
    "\n",
    "a = 5\n",
    "\n",
    "if 3 < a < 7:\n",
    "    print(\"5는 3보다 크고 7보다 작습니다.\")\n",
    "else:\n",
    "    print(\"조건을 만족하지 않습니다.\")\n"
   ]
  },
  {
   "cell_type": "markdown",
   "id": "a70ee10d",
   "metadata": {},
   "source": [
    "# 논리 연산자 연습문제\n",
    "## 연습문제2\n",
    "## 변수x가10 이상이고20 이하인지검사하는프로그램을작성하라.\n",
    "\n",
    ">>> x = int(input(\"x 값을 입력하세요: \"))\n",
    "x 값을 입력하세요: 9\n",
    ">>> if 10 <= x <= 20:\n",
    "...     print(\"x는 10 이상이고 20 이하입니다.\")\n",
    "... else:\n",
    "...     print(\"x는 조건을 만족하지 않습니다.\")\n",
    "... \n",
    "x는 조건을 만족하지 않습니다."
   ]
  },
  {
   "cell_type": "markdown",
   "id": "e3feb839",
   "metadata": {},
   "source": [
    "# 논리 연산자 연습문제\n",
    "## 연습문제3\n",
    "## 변수y가5의배수이거나7의배수인지검사하는프로그램을작성하라.\n",
    "\n",
    ">>> y = int(input(\"y 값을 입력하세요: \"))\n",
    "y 값을 입력하세요: 15\n",
    ">>> if (y % 5 == 0) or (y % 7 == 0):\n",
    "...     print(\"y는 5의 배수이거나 7의 배수입니다.\")\n",
    "... else:\n",
    "...     print(\"y는 5의 배수도 7의 배수도 아닙니다.\")\n",
    "... \n",
    "y는 5의 배수이거나 7의 배수입니다."
   ]
  },
  {
   "cell_type": "markdown",
   "id": "6a515cc3",
   "metadata": {},
   "source": [
    "# 논리 연산자 연습문제\n",
    "## 연습문제4\n",
    "## 변수z가양수이면서짝수인지검사하는프로그램을작성하라.\n",
    "\n",
    ">>> z = int(input(\"z 값을 입력하세요: \"))\n",
    "z 값을 입력하세요: 15\n",
    ">>> if z > 0 and z % 2 == 0:\n",
    "...     print(\"z는 양수이면서 짝수입니다.\")\n",
    "... else:\n",
    "...     print(\"조건을 만족하지 않습니다.\")\n",
    "... \n",
    "조건을 만족하지 않습니다."
   ]
  },
  {
   "cell_type": "markdown",
   "id": "21287fb0",
   "metadata": {},
   "source": [
    "# 논리 연산자 연습문제\n",
    "## 연습문제5\n",
    "## 변수a가문자열\"hello\"나문자열\"world\" 하나인지검사하는프로그램을작성하라.\n",
    "\n",
    ">>> a = input(\"문자열을 입력하세요: \")\n",
    "문자열을 입력하세요: 안녕하이\n",
    ">>> if a == \"hello\" or a == \"world\":\n",
    "...     print(\"a는 'hello' 또는 'world'입니다.\")\n",
    "... else:\n",
    "...     print(\"a는 'hello'나 'world'가 아닙니다.\")\n",
    "... \n",
    "a는 'hello'나 'world'가 아닙니다."
   ]
  }
 ],
 "metadata": {
  "kernelspec": {
   "display_name": ".venv",
   "language": "python",
   "name": "python3"
  },
  "language_info": {
   "codemirror_mode": {
    "name": "ipython",
    "version": 3
   },
   "file_extension": ".py",
   "mimetype": "text/x-python",
   "name": "python",
   "nbconvert_exporter": "python",
   "pygments_lexer": "ipython3",
   "version": "3.13.7"
  }
 },
 "nbformat": 4,
 "nbformat_minor": 5
}
