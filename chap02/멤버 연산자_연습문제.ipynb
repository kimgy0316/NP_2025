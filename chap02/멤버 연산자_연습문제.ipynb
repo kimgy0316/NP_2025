{
 "cells": [
  {
   "cell_type": "markdown",
   "id": "ff9ef848",
   "metadata": {},
   "source": [
    "## 2장 연습문제_멤버 연산자\n",
    "\n",
    "이 파일은 2장을 학습하면서 실습한 연습문제를 정리한 것이다.\n",
    "\n",
    "날짜 : 2025.09.10\n",
    "\n",
    "작성자 : 김경연 (202311383)"
   ]
  },
  {
   "cell_type": "code",
   "execution_count": null,
   "id": "a17f36cc",
   "metadata": {},
   "outputs": [
    {
     "name": "stdout",
     "output_type": "stream",
     "text": [
      "7은 리스트에 포함되어 있지 않습니다.\n"
     ]
    }
   ],
   "source": [
    "# 멤버 연산자 연습문제\n",
    "## 연습문제1\n",
    "## 숫자7이리스트[1, 2, 3, 4, 5]에 포함되어 있는지 검사하는프로그램을작성하라.\n",
    "\n",
    "numbers = [1, 2, 3, 4, 5]\n",
    "\n",
    "if 7 in numbers:\n",
    "    print(\"7은 리스트에 포함되어 있습니다.\")\n",
    "else:\n",
    "    print(\"7은 리스트에 포함되어 있지 않습니다.\")\n"
   ]
  },
  {
   "cell_type": "code",
   "execution_count": null,
   "id": "eb3633d4",
   "metadata": {},
   "outputs": [
    {
     "name": "stdout",
     "output_type": "stream",
     "text": [
      "\"apple\"은 세트에 포함되어 있지 않습니다.\n"
     ]
    }
   ],
   "source": [
    "# 멤버 연산자 연습문제\n",
    "## 연습문제2\n",
    "## 문자열\"apple\"이 세트{\"orange\", \"banana\", \"kiwi\"}에 포함되어 있는지 검사하는 프로그램을 작성하라.\n",
    "\n",
    "fruits = {\"orange\", \"banana\", \"kiwi\"}\n",
    "\n",
    "if \"apple\" in fruits:\n",
    "    print('\"apple\"은 세트에 포함되어 있습니다.')\n",
    "else:\n",
    "    print('\"apple\"은 세트에 포함되어 있지 않습니다.')\n"
   ]
  },
  {
   "cell_type": "code",
   "execution_count": 4,
   "id": "8299da3e",
   "metadata": {},
   "outputs": [
    {
     "name": "stdout",
     "output_type": "stream",
     "text": [
      "6은 딕셔너리의 값 중 하나가 아닙니다.\n"
     ]
    }
   ],
   "source": [
    "# 멤버 연산자 연습문제\n",
    "## 연습문제3\n",
    "## 숫자6이딕셔너리{\"a\": 1, \"b\": 2, \"c\": 3, \"d\": 4}의 값들 중 하나인지 검사하는 프로그램을 작성하라.\n",
    "\n",
    "data = {\"a\": 1, \"b\": 2, \"c\": 3, \"d\": 4}\n",
    "\n",
    "if 6 in data.values():\n",
    "    print(\"6은 딕셔너리의 값 중 하나입니다.\")\n",
    "else:\n",
    "    print(\"6은 딕셔너리의 값 중 하나가 아닙니다.\")\n"
   ]
  },
  {
   "cell_type": "markdown",
   "id": "7ae6d964",
   "metadata": {},
   "source": [
    "# 멤버 연산자 연습문제\n",
    "## 연습문제4\n",
    "## 문자열\"cat\"이 튜플(\"dog\", \"cat\", \"bird\", \"hamster\")에 포함되어 있는지 검사하는 프로그램을작성하라."
   ]
  },
  {
   "cell_type": "markdown",
   "id": "442ac244",
   "metadata": {},
   "source": [
    "# 멤버 연산자 연습문제\n",
    "## 연습문제5\n",
    "## 숫자10이세트{2, 4, 6, 8, 10}에 포함되어 있는지 검사하는 프로그램을작성하라."
   ]
  }
 ],
 "metadata": {
  "kernelspec": {
   "display_name": ".venv",
   "language": "python",
   "name": "python3"
  },
  "language_info": {
   "codemirror_mode": {
    "name": "ipython",
    "version": 3
   },
   "file_extension": ".py",
   "mimetype": "text/x-python",
   "name": "python",
   "nbconvert_exporter": "python",
   "pygments_lexer": "ipython3",
   "version": "3.13.7"
  }
 },
 "nbformat": 4,
 "nbformat_minor": 5
}
