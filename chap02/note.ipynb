{
 "cells": [
  {
   "cell_type": "markdown",
   "id": "0f49c75d",
   "metadata": {},
   "source": [
    "## 2장 노트정리\n",
    "\n",
    "이 파일은 2장을 학습하면서 실행한 내용을 정리한 것이다.\n",
    "\n",
    "날짜 : 2025.9.9\n",
    "\n",
    "작성자 : 김경연 (202311383)"
   ]
  },
  {
   "cell_type": "code",
   "execution_count": null,
   "id": "6f16c042",
   "metadata": {},
   "outputs": [],
   "source": []
  },
  {
   "cell_type": "code",
   "execution_count": 5,
   "id": "fea78655",
   "metadata": {},
   "outputs": [
    {
     "name": "stdout",
     "output_type": "stream",
     "text": [
      "Hello, 여러분!!\n"
     ]
    }
   ],
   "source": [
    "print(\"Hello, 여러분!!\")"
   ]
  },
  {
   "cell_type": "code",
   "execution_count": 6,
   "id": "7615081f",
   "metadata": {},
   "outputs": [
    {
     "name": "stdout",
     "output_type": "stream",
     "text": [
      "x = 3\n"
     ]
    }
   ],
   "source": [
    "x = 3\n",
    "print(f\"x = {x}\")"
   ]
  },
  {
   "cell_type": "markdown",
   "id": "9e4e143e",
   "metadata": {},
   "source": [
    ">>> x = 3\n",
    ">>> x\n",
    "3\n",
    ">>> "
   ]
  },
  {
   "cell_type": "code",
   "execution_count": 7,
   "id": "6d4c8133",
   "metadata": {},
   "outputs": [
    {
     "data": {
      "text/plain": [
       "3"
      ]
     },
     "execution_count": 7,
     "metadata": {},
     "output_type": "execute_result"
    }
   ],
   "source": [
    "x = 3\n",
    "x"
   ]
  },
  {
   "cell_type": "code",
   "execution_count": 8,
   "id": "33ebd19e",
   "metadata": {},
   "outputs": [
    {
     "name": "stdout",
     "output_type": "stream",
     "text": [
      "30\n"
     ]
    }
   ],
   "source": [
    "print(10+20)"
   ]
  },
  {
   "cell_type": "code",
   "execution_count": 9,
   "id": "062326d7",
   "metadata": {},
   "outputs": [
    {
     "name": "stdout",
     "output_type": "stream",
     "text": [
      "동양미래대학교\n"
     ]
    }
   ],
   "source": [
    "print(\"동양미래대학교\")"
   ]
  },
  {
   "cell_type": "code",
   "execution_count": 10,
   "id": "8e2382d7",
   "metadata": {},
   "outputs": [
    {
     "name": "stdout",
     "output_type": "stream",
     "text": [
      "abcabcabc\n"
     ]
    }
   ],
   "source": [
    "print(\"abc\" *3)"
   ]
  },
  {
   "cell_type": "code",
   "execution_count": 11,
   "id": "c15db21d",
   "metadata": {},
   "outputs": [
    {
     "name": "stdout",
     "output_type": "stream",
     "text": [
      "25 32\n"
     ]
    }
   ],
   "source": [
    "x=25\n",
    "y=32\n",
    "z=x+y\n",
    "\n",
    "print(x, y)\n"
   ]
  },
  {
   "cell_type": "code",
   "execution_count": 12,
   "id": "2b4fa4b8",
   "metadata": {},
   "outputs": [
    {
     "name": "stdout",
     "output_type": "stream",
     "text": [
      "25 + 32 = 57\n"
     ]
    }
   ],
   "source": [
    "print(x, '+', y, '=', z)"
   ]
  },
  {
   "cell_type": "code",
   "execution_count": 13,
   "id": "5a860b89",
   "metadata": {},
   "outputs": [
    {
     "name": "stdout",
     "output_type": "stream",
     "text": [
      "30\n"
     ]
    }
   ],
   "source": [
    "print(10+20)"
   ]
  },
  {
   "cell_type": "code",
   "execution_count": 15,
   "id": "fca5612a",
   "metadata": {},
   "outputs": [
    {
     "name": "stdout",
     "output_type": "stream",
     "text": [
      "1020\n"
     ]
    }
   ],
   "source": [
    "print(\"10\"+\"20\")"
   ]
  },
  {
   "cell_type": "code",
   "execution_count": 14,
   "id": "65059943",
   "metadata": {},
   "outputs": [
    {
     "name": "stdout",
     "output_type": "stream",
     "text": [
      "abcabcabc\n"
     ]
    }
   ],
   "source": [
    "print(\"abc\"*3)"
   ]
  },
  {
   "cell_type": "code",
   "execution_count": 16,
   "id": "bf76965c",
   "metadata": {},
   "outputs": [
    {
     "name": "stdout",
     "output_type": "stream",
     "text": [
      "n=10\n"
     ]
    }
   ],
   "source": [
    "n=10\n",
    "print(\"n=%d\" %n)"
   ]
  },
  {
   "cell_type": "code",
   "execution_count": 18,
   "id": "b1a46cd8",
   "metadata": {},
   "outputs": [
    {
     "name": "stdout",
     "output_type": "stream",
     "text": [
      "m=5.2, n=10\n"
     ]
    }
   ],
   "source": [
    "m = 5.2\n",
    "print(\"m=%.1f, n=%d\" %(m,n))"
   ]
  },
  {
   "cell_type": "markdown",
   "id": "834757ea",
   "metadata": {},
   "source": [
    ">>> a = True\n",
    ">>> type(a)\n",
    "<class 'bool'>\n",
    ">>> "
   ]
  },
  {
   "cell_type": "markdown",
   "id": "f773cb52",
   "metadata": {},
   "source": [
    ">>> n = input('type a number:\\ ')\n",
    "type a number: 3\n",
    ">>> n\n",
    "'3'\n",
    ">>> float(n)\n",
    "3.0\n",
    ">>> n = str(3)\n",
    ">>> n\n",
    "'3'\n",
    ">>> "
   ]
  },
  {
   "cell_type": "markdown",
   "id": "e27f0dd9",
   "metadata": {},
   "source": [
    ">>> name = input('Name:')\n",
    "Name:김경연\n",
    ">>> print(\"Hello,\" + name)\n",
    "Hello,김경연"
   ]
  },
  {
   "cell_type": "markdown",
   "id": "9789834a",
   "metadata": {},
   "source": [
    ">>> a = int(input('Number 1: '))\n",
    "Number 1: 5\n",
    ">>> b = int(input('Number 2: '))\n",
    "Number 2: 8\n",
    ">>> print(a*b)\n",
    "40"
   ]
  },
  {
   "cell_type": "markdown",
   "id": "a1843765",
   "metadata": {},
   "source": [
    ">>> C = float(input(\"Type 섭씨온도 : \"))\n",
    "Type 섭씨온도 : 52\n",
    ">>> F = C*9/5 + 32\n",
    ">>> print(\"화씨온도는\", F)\n",
    "화씨온도는 125.6"
   ]
  },
  {
   "cell_type": "markdown",
   "id": "ea8bbb6a",
   "metadata": {},
   "source": [
    "## 자료형과 크기\n",
    "\n",
    "부울형\n",
    "\n",
    ">>> aVar = True\n",
    ">>> bVar = False\n",
    ">>> type(aVar)\n",
    "<class 'bool'>\n",
    ">>> \n",
    ">>> a = 1\n",
    ">>> b = 2\n",
    ">>> c = a > b\n",
    ">>> c\n",
    "False\n",
    ">>> d = a < b\n",
    ">>> d\n",
    "True"
   ]
  },
  {
   "cell_type": "markdown",
   "id": "2da0ed38",
   "metadata": {},
   "source": [
    "## 자료형과 \n",
    "\n",
    "정수형\n",
    "\n",
    ">>> intVar = 5\n",
    ">>> type(intVar)\n",
    "<class 'int'>"
   ]
  },
  {
   "cell_type": "markdown",
   "id": "02a8ed2b",
   "metadata": {},
   "source": [
    "## 자료형과 \n",
    "\n",
    "실수형\n",
    "\n",
    ">>> fVar = 1.0\n",
    ">>> type(fVar)\n",
    "<class 'float'>"
   ]
  },
  {
   "cell_type": "markdown",
   "id": "dadb8c72",
   "metadata": {},
   "source": [
    "## 자료형과 크기\n",
    "\n",
    "문자열(string)\n",
    "\n",
    ">>> strVar = \"test\"\n",
    ">>> type(strVar)\n",
    "<class 'str'>"
   ]
  },
  {
   "cell_type": "markdown",
   "id": "ef78ae1c",
   "metadata": {},
   "source": [
    "## 논리 연산자\n",
    "\n",
    ">>> exam = 85\n",
    ">>> report = 85\n",
    ">>> exam >= 80 and report >= 80   \n",
    "True\n",
    ">>> exam >= 90 or report >= 90\n",
    "False\n",
    ">>> not(exam<90)\n",
    "False"
   ]
  },
  {
   "cell_type": "markdown",
   "id": "59965907",
   "metadata": {},
   "source": [
    "## 멤버연산자\n",
    "\n",
    ">>> 'py' in 'python'\n",
    "True\n",
    ">>> 'ty' not in 'python'\n",
    "True"
   ]
  },
  {
   "cell_type": "markdown",
   "id": "324354ee",
   "metadata": {},
   "source": [
    "## 식별 연산자\n",
    "\n",
    ">>> a = 2\n",
    ">>> b = 2\n",
    ">>> id(a)\n",
    "140737386279880\n",
    ">>> id(b)\n",
    "140737386279880\n",
    "\n",
    ">>> id(a) == id(b)\n",
    "True\n",
    ">>> a is b\n",
    "True\n",
    ">>> a is not b\n",
    "False"
   ]
  }
 ],
 "metadata": {
  "kernelspec": {
   "display_name": ".venv",
   "language": "python",
   "name": "python3"
  },
  "language_info": {
   "codemirror_mode": {
    "name": "ipython",
    "version": 3
   },
   "file_extension": ".py",
   "mimetype": "text/x-python",
   "name": "python",
   "nbconvert_exporter": "python",
   "pygments_lexer": "ipython3",
   "version": "3.13.7"
  }
 },
 "nbformat": 4,
 "nbformat_minor": 5
}
