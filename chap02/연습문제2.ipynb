{
 "cells": [
  {
   "cell_type": "markdown",
   "id": "2069f854",
   "metadata": {},
   "source": [
    "## 2장 연습문제2\n",
    "이 파일은 2장을 학습하면서 실습한 연습문제를 정리한 것이다.\n",
    "\n",
    "날짜 : 2025.09.10\n",
    "\n",
    "작성자 : 김경연 (202311383)"
   ]
  },
  {
   "cell_type": "markdown",
   "id": "07c11306",
   "metadata": {},
   "source": [
    "# 연습문제2\n",
    "## 연습문제1\n",
    "## 초를입력하면분과초로표시하는프로그램. 예를들어, 200초를입력하면3분20초로표현하라.\n",
    "\n",
    ">>> total_seconds = int(input(\"초를 입 력하세요: \"))\n",
    "초를 입력하세요: 52\n",
    ">>> minutes = total_seconds // 60\n",
    "... seconds = total_seconds % 60\n",
    "... print(f\"{total_seconds}초는 {minut\\es}분 {seconds}초입니다.\")\n",
    "... \n",
    "52초는 0분 52초입니다."
   ]
  },
  {
   "cell_type": "markdown",
   "id": "ef5175ed",
   "metadata": {},
   "source": [
    "# 연습문제2\n",
    "## 연습문제2\n",
    "## 분(min)을 입력 하면, 일, 시간, 분으로출력하는프로그램을만들어라. (예: 1550분은1일1시간50분)\n",
    "\n",
    ">>> total_minutes = int(input(\"분(minu\\te)을 입력하세요: \"))\n",
    "분(minute)을 입력하세요: 66                    # 하루는 1440분s // (24 * 60) ) // 60urs = (total_minutes % (24 * 60)\\... minutes = total_minutes % 60\n",
    "... print(f\"{total_minutes}분은 {days}\\일 {hours}시간 {minutes}분입니다.\")    \n",
    "... \n",
    "66분은 0일 1시간 6분입니다."
   ]
  },
  {
   "cell_type": "code",
   "execution_count": null,
   "id": "53802f7b",
   "metadata": {},
   "outputs": [
    {
     "name": "stdout",
     "output_type": "stream",
     "text": [
      "5년 후 원리금 합계: 6,381,407원\n"
     ]
    }
   ],
   "source": [
    "# 연습문제2\n",
    "## 연습문제3\n",
    "## 500만원을년이율5%로복리저금했을때5년후의원리금의합계를출력하는프로그램\n",
    "\n",
    "principal = 5000000\n",
    "rate = 0.05\n",
    "years = 5\n",
    "\n",
    "amount = principal * (1 + rate) ** years\n",
    "\n",
    "print(f\"5년 후 원리금 합계: {int(amount):,}원\")"
   ]
  },
  {
   "cell_type": "markdown",
   "id": "31289348",
   "metadata": {},
   "source": [
    "# 연습문제2\n",
    "## 연습문제4\n",
    "## 1부터n까지의합은n(n+1)/2로 주어진다. 1부터100까지의합을구하여출력하는프로그램을 작성하고실행하라.\n",
    "\n"
   ]
  },
  {
   "cell_type": "markdown",
   "id": "a097d2f2",
   "metadata": {},
   "source": [
    "# 연습문제2\n",
    "## 연습문제5\n",
    "## 판매자가딸기와포도를판매하고있다. 포도한알의무게는75g이고딸기한알의무게는 113.5g이다. 사용자로부터 포도알의개수와딸기의개수를입력받아총무게를계산하여출력 하는프로그램을작성하고실행하라.\n",
    "\n"
   ]
  }
 ],
 "metadata": {
  "kernelspec": {
   "display_name": ".venv",
   "language": "python",
   "name": "python3"
  },
  "language_info": {
   "codemirror_mode": {
    "name": "ipython",
    "version": 3
   },
   "file_extension": ".py",
   "mimetype": "text/x-python",
   "name": "python",
   "nbconvert_exporter": "python",
   "pygments_lexer": "ipython3",
   "version": "3.13.7"
  }
 },
 "nbformat": 4,
 "nbformat_minor": 5
}
