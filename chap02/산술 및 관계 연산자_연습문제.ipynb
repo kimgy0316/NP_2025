{
 "cells": [
  {
   "cell_type": "markdown",
   "id": "f09892b7",
   "metadata": {},
   "source": [
    "## 2장 연습문제_산술 및 관계 연산자\n",
    "\n",
    "이 파일은 2장을 학습하면서 실습한 연습문제를 정리한 것이다.\n",
    "\n",
    "날짜 : 2025.09.10\n",
    "\n",
    "작성자 : 김경연 (202311383)"
   ]
  },
  {
   "cell_type": "markdown",
   "id": "4fc733d2",
   "metadata": {},
   "source": [
    "# 산술 및 관계 연산자 연습문제\n",
    "## 연습문제1\n",
    "## 5와3을더한값을출력하는프로그램을작성하라\n",
    "\n",
    ">>> a = int(input(\"첫번째 실수: \"))\n",
    "첫번째 실수: 5\n",
    ">>> b = int(input(\"두번째 실수: \"))\n",
    "두번째 실수: 3\n",
    ">>> c = a + b\n",
    ">>> c\n",
    "8"
   ]
  },
  {
   "cell_type": "markdown",
   "id": "a5160f80",
   "metadata": {},
   "source": [
    "# 산술 및 관계 연산자 연습문제\n",
    "## 연습문제2\n",
    "## 7에서3을뺀값을출력하는프로그램을작성하라\n",
    "\n",
    ">>> a = int(input(\"첫번째 실수: \"))\n",
    "첫번째 실수: 7\n",
    ">>> b = int(input(\"두번째 실수: \"))\n",
    "두번째 실수: 3\n",
    ">>> c = a - b\n",
    ">>> c\n",
    "4"
   ]
  },
  {
   "cell_type": "markdown",
   "id": "00ce1306",
   "metadata": {},
   "source": [
    "# 산술 및 관계 연산자 연습문제\n",
    "## 연습문제3\n",
    "## 4를2로나눈값을출력하는프로그램을작성하라.\n",
    "\n",
    ">>> a = int(input(\"첫번째 실수: \"))\n",
    "첫번째 실수: 4\n",
    ">>> b = int(input(\"두번째 실수: \"))\n",
    "두번째 실수: 2\n",
    ">>> c = a / b\n",
    ">>> c\n",
    "2.0"
   ]
  },
  {
   "cell_type": "code",
   "execution_count": null,
   "id": "50af6083",
   "metadata": {},
   "outputs": [
    {
     "name": "stdout",
     "output_type": "stream",
     "text": [
      "몫: 2\n",
      "나머지: 2\n"
     ]
    }
   ],
   "source": [
    "## 산술 및 관계 연산자 연습문제\n",
    "## 연습문제4\n",
    "## 8을3으로나눈몫과나머지를출력하는프로그램을작성하라.\n",
    "\n",
    "a = 8\n",
    "b = 3\n",
    "\n",
    "M = a // b \n",
    "N = a % b \n",
    "\n",
    "print(\"몫:\", M)\n",
    "print(\"나머지:\", N)"
   ]
  },
  {
   "cell_type": "code",
   "execution_count": null,
   "id": "b9dea562",
   "metadata": {},
   "outputs": [
    {
     "name": "stdout",
     "output_type": "stream",
     "text": [
      "2의 5제곱: 32\n"
     ]
    }
   ],
   "source": [
    "## 산술 및 관계 연산자 연습문제\n",
    "## 연습문제5\n",
    "## 2의5제곱을출력하는프로그램을작성하라.\n",
    "\n",
    "result = 2 * 2 * 2 * 2 * 2\n",
    "\n",
    "print(\"2의 5제곱:\", result)"
   ]
  },
  {
   "cell_type": "markdown",
   "id": "6dd64cac",
   "metadata": {},
   "source": [
    "## 산술 및 관계 연산자 연습문제\n",
    "## 연습문제6\n",
    "## 입력된정수가10보다크고20보다작은지검사하는프로그램을작성하라.\n",
    "\n",
    ">>> a = int(input(\"입력된 정수: \"))\n",
    "입력된 정수: 5\n",
    ">>> if 10 < a < 20:\n",
    "...     print(\"입력한 정수는 10보다 크고 20보다 작습니다.\")\n",
    "... else:\n",
    "...     print(\"입력한 정수는 범위에 포함되지 않습니다.\")\n",
    "... \n",
    "입력한 정수는 범위에 포함되지 않습니다."
   ]
  },
  {
   "cell_type": "markdown",
   "id": "3a933de9",
   "metadata": {},
   "source": [
    "## 산술 및 관계 연산자 연습문제\n",
    "## 연습문제7\n",
    "## 문자열\"hello\"와 문자열\"world\"를 이어붙인결과를출력하는프로그램을작성하라.\n",
    "\n",
    ">>> a = \"hello\"\n",
    ">>> b = \"world\"\n",
    ">>> result = a + b\n",
    ">>> print(\" \", result)\n",
    "  helloworld"
   ]
  },
  {
   "cell_type": "markdown",
   "id": "1a5c34eb",
   "metadata": {},
   "source": [
    "# 산술 및 관계 연산자 연습문제\n",
    "## 연습문제8\n",
    "## 7을2로나눈결과가3보다작은지검사하는프로그램을작성하라.\n",
    "\n",
    ">>> result = 7 / 2\n",
    ">>> print(\"7 / 2 =\", result)\n",
    "7 / 2 = 3.5\n",
    ">>> if result < 3:\n",
    "...     print(\"결과가 3보다 작습니다.\")\n",
    "... else:\n",
    "...     print(\"결과가 3보다 크거나 같습니다.\")\n",
    "... \n",
    "결과가 3보다 크거나 같습니다."
   ]
  },
  {
   "cell_type": "markdown",
   "id": "e0153a98",
   "metadata": {},
   "source": [
    "# 산술 및 관계 연산자 연습문제\n",
    "## 연습문제9\n",
    "## 변수x의값이5와같지않은지검사하는프로그램을작성하라.\n",
    "\n",
    ">>> x = int(input(\"x 값을 입력하세요: \"))\n",
    "x 값을 입력하세요: 9\n",
    ">>> if x != 5:\n",
    "...     print(\"x는 5와 같지 않습니다.\")\n",
    "... else:\n",
    "...     print(\"x는 5와 같습니다.\")\n",
    "... \n",
    "x는 5와 같지 않습니다."
   ]
  },
  {
   "cell_type": "markdown",
   "id": "a5653917",
   "metadata": {},
   "source": [
    "# 산술 및 관계 연산자 연습문제\n",
    "## 연습문제10\n",
    "## 변수 y의 값이10에서20 사이의값인지검사하는프로그램을작성하라.\n",
    "\n",
    ">>> y = int(input(\"y 값을 입력하세요: \"))\n",
    "y 값을 입력하세요: 15\n",
    ">>> if 10 < y < 20:\n",
    "...     print(\"y는 10에서 20 사이의 값입니다.\")\n",
    "... else:\n",
    "...     print(\"y는 범위에 포함되지 않습니다.\")\n",
    "... \n",
    "y는 10에서 20 사이의 값입니다."
   ]
  }
 ],
 "metadata": {
  "kernelspec": {
   "display_name": ".venv",
   "language": "python",
   "name": "python3"
  },
  "language_info": {
   "codemirror_mode": {
    "name": "ipython",
    "version": 3
   },
   "file_extension": ".py",
   "mimetype": "text/x-python",
   "name": "python",
   "nbconvert_exporter": "python",
   "pygments_lexer": "ipython3",
   "version": "3.13.7"
  }
 },
 "nbformat": 4,
 "nbformat_minor": 5
}
