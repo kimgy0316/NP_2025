{
 "cells": [
  {
   "cell_type": "markdown",
   "id": "2d4c8701",
   "metadata": {},
   "source": [
    "## 2장 연습문제_기본 입출력 함수\n",
    "\n",
    "이 파일은 2장을 학습하면서 실습한 연습문제를 정리한 것이다.\n",
    "\n",
    "날짜 : 2025.09.10\n",
    "\n",
    "작성자 : 김경연 (202311383)"
   ]
  },
  {
   "cell_type": "markdown",
   "id": "732f9a32",
   "metadata": {},
   "source": [
    "## 연습문제1\n",
    "\n",
    ">>> a = float(input(\"첫 번째 실수: \"))\n",
    "첫 번째 실수: 2\n",
    ">>> b = float(input(\"두 번째 실수: \"))\n",
    "두 번째 실수: 4\n",
    ">>> print(\"곱 =\", a * b)\n",
    "곱 = 8.0"
   ]
  },
  {
   "cell_type": "markdown",
   "id": "e706c8e9",
   "metadata": {},
   "source": [
    "## 연습문제2"
   ]
  },
  {
   "cell_type": "markdown",
   "id": "c1054356",
   "metadata": {},
   "source": [
    "## 연습문제3\n",
    "\n",
    ">>> r = float(input())\n",
    "5\n",
    ">>> print(2*3.141592*r)\n",
    "31.41592\n",
    ">>> print(3.141592*r*r)\n",
    "78.5398"
   ]
  }
 ],
 "metadata": {
  "language_info": {
   "name": "python"
  }
 },
 "nbformat": 4,
 "nbformat_minor": 5
}
