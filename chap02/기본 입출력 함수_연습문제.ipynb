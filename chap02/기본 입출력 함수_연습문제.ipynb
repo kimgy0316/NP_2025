{
 "cells": [
  {
   "cell_type": "markdown",
   "id": "2d4c8701",
   "metadata": {},
   "source": [
    "## 2장 연습문제\n",
    "\n",
    "이 파일은 2장을 학습하면서 실습한 연습문제를 정리한 것이다.\n",
    "\n",
    "날짜 : 2025.09.10\n",
    "\n",
    "작성자 : 김경연"
   ]
  }
 ],
 "metadata": {
  "language_info": {
   "name": "python"
  }
 },
 "nbformat": 4,
 "nbformat_minor": 5
}
