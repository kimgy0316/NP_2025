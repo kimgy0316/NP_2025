{
 "cells": [
  {
   "cell_type": "markdown",
   "id": "1cdc6aa3",
   "metadata": {},
   "source": [
    "## 5장 노트정리\n",
    "\n",
    "이 파일은 5장 연습문제이다.\n",
    "\n",
    "날짜 : 2025.9.16\n",
    "\n",
    "작성자 : 김경연 (202311383)"
   ]
  },
  {
   "cell_type": "code",
   "execution_count": 8,
   "id": "c8c42fb7",
   "metadata": {},
   "outputs": [
    {
     "name": "stdout",
     "output_type": "stream",
     "text": [
      "*****\n",
      "*****\n",
      "*****\n"
     ]
    }
   ],
   "source": [
    "# 1) m x n 개의 '*' 상자 출력\n",
    "def print_box(n: int, m: int) -> None:\n",
    "    for _ in range(m):\n",
    "        print('*' * n)\n",
    "\n",
    "print_box(5, 3)"
   ]
  },
  {
   "cell_type": "code",
   "execution_count": 9,
   "id": "39a0c79d",
   "metadata": {},
   "outputs": [
    {
     "name": "stdout",
     "output_type": "stream",
     "text": [
      "6\n",
      "16\n",
      "17\n"
     ]
    }
   ],
   "source": [
    "# 2) 숫자의 자리합\n",
    "def digit_sum(n):\n",
    "    n = abs(n)  # 음수가 들어와도 양수로 처리\n",
    "    return sum(int(d) for d in str(n))\n",
    "\n",
    "print(digit_sum(123))   # 6 (1+2+3)\n",
    "print(digit_sum(4057))  # 16 (4+0+5+7)\n",
    "print(digit_sum(-98))   # 17 (9+8)"
   ]
  },
  {
   "cell_type": "code",
   "execution_count": 10,
   "id": "4c8c63df",
   "metadata": {},
   "outputs": [
    {
     "name": "stdout",
     "output_type": "stream",
     "text": [
      "2\n",
      "-1\n",
      "3\n",
      "3\n"
     ]
    }
   ],
   "source": [
    "# 3) 두 문자열이 처음으로 다른 위치의 인덱스 반환 (같으면 -1)\n",
    "def first_diff(a: str, b: str) -> int:\n",
    "    for i, (ca, cb) in enumerate(zip(a, b)):\n",
    "        if ca != cb:\n",
    "            return i\n",
    "    if len(a) != len(b):\n",
    "        return min(len(a), len(b))\n",
    "    return -1\n",
    "\n",
    "print(first_diff(\"hello\", \"heXlo\"))\n",
    "print(first_diff(\"abc\", \"abc\"))\n",
    "print(first_diff(\"abcd\", \"abc\"))\n",
    "print(first_diff(\"abc\", \"abcd\"))"
   ]
  },
  {
   "cell_type": "code",
   "execution_count": 11,
   "id": "ae2c34e5",
   "metadata": {},
   "outputs": [
    {
     "name": "stdout",
     "output_type": "stream",
     "text": [
      "[1, 2, 3, 4, 6, 12]\n",
      "[1, 2, 4, 7, 14, 28]\n",
      "[1, 3, 5, 15]\n",
      "[]\n"
     ]
    }
   ],
   "source": [
    "# 4) 약수 리스트 반환 (양의 정수 기준)\n",
    "def divisors(n: int) -> list[int]:\n",
    "    n = abs(n)\n",
    "    if n == 0:\n",
    "        return []\n",
    "    return [i for i in range(1, n + 1) if n % i == 0]\n",
    "\n",
    "print(divisors(12))   # [1, 2, 3, 4, 6, 12]\n",
    "print(divisors(28))   # [1, 2, 4, 7, 14, 28]\n",
    "print(divisors(-15))  # [1, 3, 5, 15]\n",
    "print(divisors(0))"
   ]
  },
  {
   "cell_type": "code",
   "execution_count": 12,
   "id": "a75e4f7d",
   "metadata": {},
   "outputs": [
    {
     "name": "stdout",
     "output_type": "stream",
     "text": [
      "[1, 3, 5]\n",
      "[4, 7]\n",
      "[]\n"
     ]
    }
   ],
   "source": [
    "# 5) 문자열 s에서 문자 ch의 모든 위치 인덱스 리스트 반환\n",
    "def find_all_positions(s: str, ch: str) -> list[int]:\n",
    "    return [i for i, c in enumerate(s) if c == ch]\n",
    "\n",
    "print(find_all_positions(\"banana\", \"a\"))\n",
    "print(find_all_positions(\"hello world\", \"o\"))\n",
    "print(find_all_positions(\"test\", \"x\"))"
   ]
  },
  {
   "cell_type": "code",
   "execution_count": 14,
   "id": "9983fce2",
   "metadata": {},
   "outputs": [
    {
     "name": "stdout",
     "output_type": "stream",
     "text": [
      "5050\n"
     ]
    }
   ],
   "source": [
    "# 6) 재귀로 1부터 n까지의 합\n",
    "def sum_recursive(n: int) -> int:\n",
    "    if n <= 1:\n",
    "        return n\n",
    "    return n + sum_recursive(n - 1)\n",
    "\n",
    "print(sum_recursive(100))"
   ]
  }
 ],
 "metadata": {
  "kernelspec": {
   "display_name": ".venv",
   "language": "python",
   "name": "python3"
  },
  "language_info": {
   "codemirror_mode": {
    "name": "ipython",
    "version": 3
   },
   "file_extension": ".py",
   "mimetype": "text/x-python",
   "name": "python",
   "nbconvert_exporter": "python",
   "pygments_lexer": "ipython3",
   "version": "3.13.7"
  }
 },
 "nbformat": 4,
 "nbformat_minor": 5
}
